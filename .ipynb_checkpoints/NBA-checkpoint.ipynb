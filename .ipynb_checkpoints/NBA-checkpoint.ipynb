{
 "cells": [
  {
   "cell_type": "code",
   "execution_count": 1,
   "metadata": {},
   "outputs": [
    {
     "name": "stderr",
     "output_type": "stream",
     "text": [
      "C:\\Users\\BATCOMP\\Anaconda3\\lib\\site-packages\\h5py\\__init__.py:36: FutureWarning: Conversion of the second argument of issubdtype from `float` to `np.floating` is deprecated. In future, it will be treated as `np.float64 == np.dtype(float).type`.\n",
      "  from ._conv import register_converters as _register_converters\n",
      "Using TensorFlow backend.\n"
     ]
    }
   ],
   "source": [
    "import keras\n",
    "\n",
    "import numpy as np\n",
    "import pandas as pd\n",
    "import matplotlib.pyplot as plt\n",
    "\n",
    "from sklearn.model_selection  import train_test_split\n",
    "from sklearn.preprocessing import LabelEncoder\n",
    "\n",
    "from keras.models import Sequential\n",
    "from keras.layers import Dense\n",
    "\n",
    "import seaborn as sns"
   ]
  },
  {
   "cell_type": "markdown",
   "metadata": {},
   "source": [
    "We will use \"shot_logs.csv\" as our dataset for analysis and prediction."
   ]
  },
  {
   "cell_type": "code",
   "execution_count": 2,
   "metadata": {},
   "outputs": [],
   "source": [
    "nba = pd.read_csv(r\"C:\\Users\\BATCOMP\\Downloads\\nba-shot-logs\\shot_logs.csv\")"
   ]
  },
  {
   "cell_type": "code",
   "execution_count": 3,
   "metadata": {
    "scrolled": true
   },
   "outputs": [
    {
     "data": {
      "text/html": [
       "<div>\n",
       "<style scoped>\n",
       "    .dataframe tbody tr th:only-of-type {\n",
       "        vertical-align: middle;\n",
       "    }\n",
       "\n",
       "    .dataframe tbody tr th {\n",
       "        vertical-align: top;\n",
       "    }\n",
       "\n",
       "    .dataframe thead th {\n",
       "        text-align: right;\n",
       "    }\n",
       "</style>\n",
       "<table border=\"1\" class=\"dataframe\">\n",
       "  <thead>\n",
       "    <tr style=\"text-align: right;\">\n",
       "      <th></th>\n",
       "      <th>GAME_ID</th>\n",
       "      <th>MATCHUP</th>\n",
       "      <th>LOCATION</th>\n",
       "      <th>W</th>\n",
       "      <th>FINAL_MARGIN</th>\n",
       "      <th>SHOT_NUMBER</th>\n",
       "      <th>PERIOD</th>\n",
       "      <th>GAME_CLOCK</th>\n",
       "      <th>SHOT_CLOCK</th>\n",
       "      <th>DRIBBLES</th>\n",
       "      <th>...</th>\n",
       "      <th>SHOT_DIST</th>\n",
       "      <th>PTS_TYPE</th>\n",
       "      <th>SHOT_RESULT</th>\n",
       "      <th>CLOSEST_DEFENDER</th>\n",
       "      <th>CLOSEST_DEFENDER_PLAYER_ID</th>\n",
       "      <th>CLOSE_DEF_DIST</th>\n",
       "      <th>FGM</th>\n",
       "      <th>PTS</th>\n",
       "      <th>player_name</th>\n",
       "      <th>player_id</th>\n",
       "    </tr>\n",
       "  </thead>\n",
       "  <tbody>\n",
       "    <tr>\n",
       "      <th>0</th>\n",
       "      <td>21400899</td>\n",
       "      <td>MAR 04, 2015 - CHA @ BKN</td>\n",
       "      <td>A</td>\n",
       "      <td>W</td>\n",
       "      <td>24</td>\n",
       "      <td>1</td>\n",
       "      <td>1</td>\n",
       "      <td>1:09</td>\n",
       "      <td>10.8</td>\n",
       "      <td>2</td>\n",
       "      <td>...</td>\n",
       "      <td>7.7</td>\n",
       "      <td>2</td>\n",
       "      <td>made</td>\n",
       "      <td>Anderson, Alan</td>\n",
       "      <td>101187</td>\n",
       "      <td>1.3</td>\n",
       "      <td>1</td>\n",
       "      <td>2</td>\n",
       "      <td>brian roberts</td>\n",
       "      <td>203148</td>\n",
       "    </tr>\n",
       "    <tr>\n",
       "      <th>1</th>\n",
       "      <td>21400899</td>\n",
       "      <td>MAR 04, 2015 - CHA @ BKN</td>\n",
       "      <td>A</td>\n",
       "      <td>W</td>\n",
       "      <td>24</td>\n",
       "      <td>2</td>\n",
       "      <td>1</td>\n",
       "      <td>0:14</td>\n",
       "      <td>3.4</td>\n",
       "      <td>0</td>\n",
       "      <td>...</td>\n",
       "      <td>28.2</td>\n",
       "      <td>3</td>\n",
       "      <td>missed</td>\n",
       "      <td>Bogdanovic, Bojan</td>\n",
       "      <td>202711</td>\n",
       "      <td>6.1</td>\n",
       "      <td>0</td>\n",
       "      <td>0</td>\n",
       "      <td>brian roberts</td>\n",
       "      <td>203148</td>\n",
       "    </tr>\n",
       "    <tr>\n",
       "      <th>2</th>\n",
       "      <td>21400899</td>\n",
       "      <td>MAR 04, 2015 - CHA @ BKN</td>\n",
       "      <td>A</td>\n",
       "      <td>W</td>\n",
       "      <td>24</td>\n",
       "      <td>3</td>\n",
       "      <td>1</td>\n",
       "      <td>0:00</td>\n",
       "      <td>NaN</td>\n",
       "      <td>3</td>\n",
       "      <td>...</td>\n",
       "      <td>10.1</td>\n",
       "      <td>2</td>\n",
       "      <td>missed</td>\n",
       "      <td>Bogdanovic, Bojan</td>\n",
       "      <td>202711</td>\n",
       "      <td>0.9</td>\n",
       "      <td>0</td>\n",
       "      <td>0</td>\n",
       "      <td>brian roberts</td>\n",
       "      <td>203148</td>\n",
       "    </tr>\n",
       "    <tr>\n",
       "      <th>3</th>\n",
       "      <td>21400899</td>\n",
       "      <td>MAR 04, 2015 - CHA @ BKN</td>\n",
       "      <td>A</td>\n",
       "      <td>W</td>\n",
       "      <td>24</td>\n",
       "      <td>4</td>\n",
       "      <td>2</td>\n",
       "      <td>11:47</td>\n",
       "      <td>10.3</td>\n",
       "      <td>2</td>\n",
       "      <td>...</td>\n",
       "      <td>17.2</td>\n",
       "      <td>2</td>\n",
       "      <td>missed</td>\n",
       "      <td>Brown, Markel</td>\n",
       "      <td>203900</td>\n",
       "      <td>3.4</td>\n",
       "      <td>0</td>\n",
       "      <td>0</td>\n",
       "      <td>brian roberts</td>\n",
       "      <td>203148</td>\n",
       "    </tr>\n",
       "    <tr>\n",
       "      <th>4</th>\n",
       "      <td>21400899</td>\n",
       "      <td>MAR 04, 2015 - CHA @ BKN</td>\n",
       "      <td>A</td>\n",
       "      <td>W</td>\n",
       "      <td>24</td>\n",
       "      <td>5</td>\n",
       "      <td>2</td>\n",
       "      <td>10:34</td>\n",
       "      <td>10.9</td>\n",
       "      <td>2</td>\n",
       "      <td>...</td>\n",
       "      <td>3.7</td>\n",
       "      <td>2</td>\n",
       "      <td>missed</td>\n",
       "      <td>Young, Thaddeus</td>\n",
       "      <td>201152</td>\n",
       "      <td>1.1</td>\n",
       "      <td>0</td>\n",
       "      <td>0</td>\n",
       "      <td>brian roberts</td>\n",
       "      <td>203148</td>\n",
       "    </tr>\n",
       "    <tr>\n",
       "      <th>5</th>\n",
       "      <td>21400899</td>\n",
       "      <td>MAR 04, 2015 - CHA @ BKN</td>\n",
       "      <td>A</td>\n",
       "      <td>W</td>\n",
       "      <td>24</td>\n",
       "      <td>6</td>\n",
       "      <td>2</td>\n",
       "      <td>8:15</td>\n",
       "      <td>9.1</td>\n",
       "      <td>2</td>\n",
       "      <td>...</td>\n",
       "      <td>18.4</td>\n",
       "      <td>2</td>\n",
       "      <td>missed</td>\n",
       "      <td>Williams, Deron</td>\n",
       "      <td>101114</td>\n",
       "      <td>2.6</td>\n",
       "      <td>0</td>\n",
       "      <td>0</td>\n",
       "      <td>brian roberts</td>\n",
       "      <td>203148</td>\n",
       "    </tr>\n",
       "    <tr>\n",
       "      <th>6</th>\n",
       "      <td>21400899</td>\n",
       "      <td>MAR 04, 2015 - CHA @ BKN</td>\n",
       "      <td>A</td>\n",
       "      <td>W</td>\n",
       "      <td>24</td>\n",
       "      <td>7</td>\n",
       "      <td>4</td>\n",
       "      <td>10:15</td>\n",
       "      <td>14.5</td>\n",
       "      <td>11</td>\n",
       "      <td>...</td>\n",
       "      <td>20.7</td>\n",
       "      <td>2</td>\n",
       "      <td>missed</td>\n",
       "      <td>Jack, Jarrett</td>\n",
       "      <td>101127</td>\n",
       "      <td>6.1</td>\n",
       "      <td>0</td>\n",
       "      <td>0</td>\n",
       "      <td>brian roberts</td>\n",
       "      <td>203148</td>\n",
       "    </tr>\n",
       "    <tr>\n",
       "      <th>7</th>\n",
       "      <td>21400899</td>\n",
       "      <td>MAR 04, 2015 - CHA @ BKN</td>\n",
       "      <td>A</td>\n",
       "      <td>W</td>\n",
       "      <td>24</td>\n",
       "      <td>8</td>\n",
       "      <td>4</td>\n",
       "      <td>8:00</td>\n",
       "      <td>3.4</td>\n",
       "      <td>3</td>\n",
       "      <td>...</td>\n",
       "      <td>3.5</td>\n",
       "      <td>2</td>\n",
       "      <td>made</td>\n",
       "      <td>Plumlee, Mason</td>\n",
       "      <td>203486</td>\n",
       "      <td>2.1</td>\n",
       "      <td>1</td>\n",
       "      <td>2</td>\n",
       "      <td>brian roberts</td>\n",
       "      <td>203148</td>\n",
       "    </tr>\n",
       "    <tr>\n",
       "      <th>8</th>\n",
       "      <td>21400899</td>\n",
       "      <td>MAR 04, 2015 - CHA @ BKN</td>\n",
       "      <td>A</td>\n",
       "      <td>W</td>\n",
       "      <td>24</td>\n",
       "      <td>9</td>\n",
       "      <td>4</td>\n",
       "      <td>5:14</td>\n",
       "      <td>12.4</td>\n",
       "      <td>0</td>\n",
       "      <td>...</td>\n",
       "      <td>24.6</td>\n",
       "      <td>3</td>\n",
       "      <td>missed</td>\n",
       "      <td>Morris, Darius</td>\n",
       "      <td>202721</td>\n",
       "      <td>7.3</td>\n",
       "      <td>0</td>\n",
       "      <td>0</td>\n",
       "      <td>brian roberts</td>\n",
       "      <td>203148</td>\n",
       "    </tr>\n",
       "    <tr>\n",
       "      <th>9</th>\n",
       "      <td>21400890</td>\n",
       "      <td>MAR 03, 2015 - CHA vs. LAL</td>\n",
       "      <td>H</td>\n",
       "      <td>W</td>\n",
       "      <td>1</td>\n",
       "      <td>1</td>\n",
       "      <td>2</td>\n",
       "      <td>11:32</td>\n",
       "      <td>17.4</td>\n",
       "      <td>0</td>\n",
       "      <td>...</td>\n",
       "      <td>22.4</td>\n",
       "      <td>3</td>\n",
       "      <td>missed</td>\n",
       "      <td>Ellington, Wayne</td>\n",
       "      <td>201961</td>\n",
       "      <td>19.8</td>\n",
       "      <td>0</td>\n",
       "      <td>0</td>\n",
       "      <td>brian roberts</td>\n",
       "      <td>203148</td>\n",
       "    </tr>\n",
       "    <tr>\n",
       "      <th>10</th>\n",
       "      <td>21400890</td>\n",
       "      <td>MAR 03, 2015 - CHA vs. LAL</td>\n",
       "      <td>H</td>\n",
       "      <td>W</td>\n",
       "      <td>1</td>\n",
       "      <td>2</td>\n",
       "      <td>2</td>\n",
       "      <td>6:30</td>\n",
       "      <td>16.0</td>\n",
       "      <td>8</td>\n",
       "      <td>...</td>\n",
       "      <td>24.5</td>\n",
       "      <td>3</td>\n",
       "      <td>missed</td>\n",
       "      <td>Lin, Jeremy</td>\n",
       "      <td>202391</td>\n",
       "      <td>4.7</td>\n",
       "      <td>0</td>\n",
       "      <td>0</td>\n",
       "      <td>brian roberts</td>\n",
       "      <td>203148</td>\n",
       "    </tr>\n",
       "    <tr>\n",
       "      <th>11</th>\n",
       "      <td>21400890</td>\n",
       "      <td>MAR 03, 2015 - CHA vs. LAL</td>\n",
       "      <td>H</td>\n",
       "      <td>W</td>\n",
       "      <td>1</td>\n",
       "      <td>3</td>\n",
       "      <td>4</td>\n",
       "      <td>11:32</td>\n",
       "      <td>12.1</td>\n",
       "      <td>14</td>\n",
       "      <td>...</td>\n",
       "      <td>14.6</td>\n",
       "      <td>2</td>\n",
       "      <td>made</td>\n",
       "      <td>Lin, Jeremy</td>\n",
       "      <td>202391</td>\n",
       "      <td>1.8</td>\n",
       "      <td>1</td>\n",
       "      <td>2</td>\n",
       "      <td>brian roberts</td>\n",
       "      <td>203148</td>\n",
       "    </tr>\n",
       "    <tr>\n",
       "      <th>12</th>\n",
       "      <td>21400890</td>\n",
       "      <td>MAR 03, 2015 - CHA vs. LAL</td>\n",
       "      <td>H</td>\n",
       "      <td>W</td>\n",
       "      <td>1</td>\n",
       "      <td>4</td>\n",
       "      <td>4</td>\n",
       "      <td>8:55</td>\n",
       "      <td>4.3</td>\n",
       "      <td>2</td>\n",
       "      <td>...</td>\n",
       "      <td>5.9</td>\n",
       "      <td>2</td>\n",
       "      <td>made</td>\n",
       "      <td>Hill, Jordan</td>\n",
       "      <td>201941</td>\n",
       "      <td>5.4</td>\n",
       "      <td>1</td>\n",
       "      <td>2</td>\n",
       "      <td>brian roberts</td>\n",
       "      <td>203148</td>\n",
       "    </tr>\n",
       "    <tr>\n",
       "      <th>13</th>\n",
       "      <td>21400882</td>\n",
       "      <td>MAR 01, 2015 - CHA @ ORL</td>\n",
       "      <td>A</td>\n",
       "      <td>W</td>\n",
       "      <td>15</td>\n",
       "      <td>1</td>\n",
       "      <td>4</td>\n",
       "      <td>9:10</td>\n",
       "      <td>4.4</td>\n",
       "      <td>0</td>\n",
       "      <td>...</td>\n",
       "      <td>26.4</td>\n",
       "      <td>3</td>\n",
       "      <td>missed</td>\n",
       "      <td>Green, Willie</td>\n",
       "      <td>2584</td>\n",
       "      <td>4.4</td>\n",
       "      <td>0</td>\n",
       "      <td>0</td>\n",
       "      <td>brian roberts</td>\n",
       "      <td>203148</td>\n",
       "    </tr>\n",
       "    <tr>\n",
       "      <th>14</th>\n",
       "      <td>21400859</td>\n",
       "      <td>FEB 27, 2015 - CHA @ BOS</td>\n",
       "      <td>A</td>\n",
       "      <td>L</td>\n",
       "      <td>-8</td>\n",
       "      <td>1</td>\n",
       "      <td>1</td>\n",
       "      <td>0:48</td>\n",
       "      <td>6.8</td>\n",
       "      <td>0</td>\n",
       "      <td>...</td>\n",
       "      <td>22.8</td>\n",
       "      <td>3</td>\n",
       "      <td>missed</td>\n",
       "      <td>Smart, Marcus</td>\n",
       "      <td>203935</td>\n",
       "      <td>5.3</td>\n",
       "      <td>0</td>\n",
       "      <td>0</td>\n",
       "      <td>brian roberts</td>\n",
       "      <td>203148</td>\n",
       "    </tr>\n",
       "    <tr>\n",
       "      <th>15</th>\n",
       "      <td>21400859</td>\n",
       "      <td>FEB 27, 2015 - CHA @ BOS</td>\n",
       "      <td>A</td>\n",
       "      <td>L</td>\n",
       "      <td>-8</td>\n",
       "      <td>2</td>\n",
       "      <td>2</td>\n",
       "      <td>10:38</td>\n",
       "      <td>6.4</td>\n",
       "      <td>3</td>\n",
       "      <td>...</td>\n",
       "      <td>24.7</td>\n",
       "      <td>3</td>\n",
       "      <td>made</td>\n",
       "      <td>Young, James</td>\n",
       "      <td>203923</td>\n",
       "      <td>5.6</td>\n",
       "      <td>1</td>\n",
       "      <td>3</td>\n",
       "      <td>brian roberts</td>\n",
       "      <td>203148</td>\n",
       "    </tr>\n",
       "    <tr>\n",
       "      <th>16</th>\n",
       "      <td>21400859</td>\n",
       "      <td>FEB 27, 2015 - CHA @ BOS</td>\n",
       "      <td>A</td>\n",
       "      <td>L</td>\n",
       "      <td>-8</td>\n",
       "      <td>3</td>\n",
       "      <td>2</td>\n",
       "      <td>8:27</td>\n",
       "      <td>17.6</td>\n",
       "      <td>6</td>\n",
       "      <td>...</td>\n",
       "      <td>25.0</td>\n",
       "      <td>3</td>\n",
       "      <td>missed</td>\n",
       "      <td>Jerebko, Jonas</td>\n",
       "      <td>201973</td>\n",
       "      <td>5.4</td>\n",
       "      <td>0</td>\n",
       "      <td>0</td>\n",
       "      <td>brian roberts</td>\n",
       "      <td>203148</td>\n",
       "    </tr>\n",
       "    <tr>\n",
       "      <th>17</th>\n",
       "      <td>21400859</td>\n",
       "      <td>FEB 27, 2015 - CHA @ BOS</td>\n",
       "      <td>A</td>\n",
       "      <td>L</td>\n",
       "      <td>-8</td>\n",
       "      <td>4</td>\n",
       "      <td>4</td>\n",
       "      <td>10:55</td>\n",
       "      <td>8.7</td>\n",
       "      <td>1</td>\n",
       "      <td>...</td>\n",
       "      <td>25.6</td>\n",
       "      <td>3</td>\n",
       "      <td>missed</td>\n",
       "      <td>Crowder, Jae</td>\n",
       "      <td>203109</td>\n",
       "      <td>5.1</td>\n",
       "      <td>0</td>\n",
       "      <td>0</td>\n",
       "      <td>brian roberts</td>\n",
       "      <td>203148</td>\n",
       "    </tr>\n",
       "    <tr>\n",
       "      <th>18</th>\n",
       "      <td>21400859</td>\n",
       "      <td>FEB 27, 2015 - CHA @ BOS</td>\n",
       "      <td>A</td>\n",
       "      <td>L</td>\n",
       "      <td>-8</td>\n",
       "      <td>5</td>\n",
       "      <td>4</td>\n",
       "      <td>10:29</td>\n",
       "      <td>20.8</td>\n",
       "      <td>0</td>\n",
       "      <td>...</td>\n",
       "      <td>24.2</td>\n",
       "      <td>3</td>\n",
       "      <td>made</td>\n",
       "      <td>Thomas, Isaiah</td>\n",
       "      <td>202738</td>\n",
       "      <td>11.1</td>\n",
       "      <td>1</td>\n",
       "      <td>3</td>\n",
       "      <td>brian roberts</td>\n",
       "      <td>203148</td>\n",
       "    </tr>\n",
       "    <tr>\n",
       "      <th>19</th>\n",
       "      <td>21400845</td>\n",
       "      <td>FEB 25, 2015 - CHA @ CHI</td>\n",
       "      <td>A</td>\n",
       "      <td>W</td>\n",
       "      <td>12</td>\n",
       "      <td>1</td>\n",
       "      <td>1</td>\n",
       "      <td>3:35</td>\n",
       "      <td>17.5</td>\n",
       "      <td>2</td>\n",
       "      <td>...</td>\n",
       "      <td>25.4</td>\n",
       "      <td>3</td>\n",
       "      <td>missed</td>\n",
       "      <td>Brooks, Aaron</td>\n",
       "      <td>201166</td>\n",
       "      <td>3.5</td>\n",
       "      <td>0</td>\n",
       "      <td>0</td>\n",
       "      <td>brian roberts</td>\n",
       "      <td>203148</td>\n",
       "    </tr>\n",
       "    <tr>\n",
       "      <th>20</th>\n",
       "      <td>21400845</td>\n",
       "      <td>FEB 25, 2015 - CHA @ CHI</td>\n",
       "      <td>A</td>\n",
       "      <td>W</td>\n",
       "      <td>12</td>\n",
       "      <td>2</td>\n",
       "      <td>1</td>\n",
       "      <td>0:33</td>\n",
       "      <td>19.5</td>\n",
       "      <td>5</td>\n",
       "      <td>...</td>\n",
       "      <td>19.1</td>\n",
       "      <td>2</td>\n",
       "      <td>made</td>\n",
       "      <td>Hinrich, Kirk</td>\n",
       "      <td>2550</td>\n",
       "      <td>4.0</td>\n",
       "      <td>1</td>\n",
       "      <td>2</td>\n",
       "      <td>brian roberts</td>\n",
       "      <td>203148</td>\n",
       "    </tr>\n",
       "    <tr>\n",
       "      <th>21</th>\n",
       "      <td>21400845</td>\n",
       "      <td>FEB 25, 2015 - CHA @ CHI</td>\n",
       "      <td>A</td>\n",
       "      <td>W</td>\n",
       "      <td>12</td>\n",
       "      <td>3</td>\n",
       "      <td>2</td>\n",
       "      <td>8:50</td>\n",
       "      <td>6.0</td>\n",
       "      <td>6</td>\n",
       "      <td>...</td>\n",
       "      <td>14.8</td>\n",
       "      <td>2</td>\n",
       "      <td>made</td>\n",
       "      <td>Gibson, Taj</td>\n",
       "      <td>201959</td>\n",
       "      <td>5.4</td>\n",
       "      <td>1</td>\n",
       "      <td>2</td>\n",
       "      <td>brian roberts</td>\n",
       "      <td>203148</td>\n",
       "    </tr>\n",
       "    <tr>\n",
       "      <th>22</th>\n",
       "      <td>21400845</td>\n",
       "      <td>FEB 25, 2015 - CHA @ CHI</td>\n",
       "      <td>A</td>\n",
       "      <td>W</td>\n",
       "      <td>12</td>\n",
       "      <td>4</td>\n",
       "      <td>2</td>\n",
       "      <td>8:24</td>\n",
       "      <td>15.7</td>\n",
       "      <td>0</td>\n",
       "      <td>...</td>\n",
       "      <td>25.2</td>\n",
       "      <td>3</td>\n",
       "      <td>missed</td>\n",
       "      <td>Hinrich, Kirk</td>\n",
       "      <td>2550</td>\n",
       "      <td>3.7</td>\n",
       "      <td>0</td>\n",
       "      <td>0</td>\n",
       "      <td>brian roberts</td>\n",
       "      <td>203148</td>\n",
       "    </tr>\n",
       "    <tr>\n",
       "      <th>23</th>\n",
       "      <td>21400845</td>\n",
       "      <td>FEB 25, 2015 - CHA @ CHI</td>\n",
       "      <td>A</td>\n",
       "      <td>W</td>\n",
       "      <td>12</td>\n",
       "      <td>5</td>\n",
       "      <td>2</td>\n",
       "      <td>5:32</td>\n",
       "      <td>11.2</td>\n",
       "      <td>16</td>\n",
       "      <td>...</td>\n",
       "      <td>22.8</td>\n",
       "      <td>3</td>\n",
       "      <td>made</td>\n",
       "      <td>Gibson, Taj</td>\n",
       "      <td>201959</td>\n",
       "      <td>5.1</td>\n",
       "      <td>1</td>\n",
       "      <td>3</td>\n",
       "      <td>brian roberts</td>\n",
       "      <td>203148</td>\n",
       "    </tr>\n",
       "    <tr>\n",
       "      <th>24</th>\n",
       "      <td>21400845</td>\n",
       "      <td>FEB 25, 2015 - CHA @ CHI</td>\n",
       "      <td>A</td>\n",
       "      <td>W</td>\n",
       "      <td>12</td>\n",
       "      <td>6</td>\n",
       "      <td>2</td>\n",
       "      <td>0:04</td>\n",
       "      <td>NaN</td>\n",
       "      <td>0</td>\n",
       "      <td>...</td>\n",
       "      <td>25.2</td>\n",
       "      <td>3</td>\n",
       "      <td>missed</td>\n",
       "      <td>Butler, Jimmy</td>\n",
       "      <td>202710</td>\n",
       "      <td>3.6</td>\n",
       "      <td>0</td>\n",
       "      <td>0</td>\n",
       "      <td>brian roberts</td>\n",
       "      <td>203148</td>\n",
       "    </tr>\n",
       "    <tr>\n",
       "      <th>25</th>\n",
       "      <td>21400845</td>\n",
       "      <td>FEB 25, 2015 - CHA @ CHI</td>\n",
       "      <td>A</td>\n",
       "      <td>W</td>\n",
       "      <td>12</td>\n",
       "      <td>7</td>\n",
       "      <td>4</td>\n",
       "      <td>10:13</td>\n",
       "      <td>17.1</td>\n",
       "      <td>7</td>\n",
       "      <td>...</td>\n",
       "      <td>24.6</td>\n",
       "      <td>3</td>\n",
       "      <td>made</td>\n",
       "      <td>Noah, Joakim</td>\n",
       "      <td>201149</td>\n",
       "      <td>6.0</td>\n",
       "      <td>1</td>\n",
       "      <td>3</td>\n",
       "      <td>brian roberts</td>\n",
       "      <td>203148</td>\n",
       "    </tr>\n",
       "    <tr>\n",
       "      <th>26</th>\n",
       "      <td>21400845</td>\n",
       "      <td>FEB 25, 2015 - CHA @ CHI</td>\n",
       "      <td>A</td>\n",
       "      <td>W</td>\n",
       "      <td>12</td>\n",
       "      <td>8</td>\n",
       "      <td>4</td>\n",
       "      <td>5:34</td>\n",
       "      <td>15.4</td>\n",
       "      <td>1</td>\n",
       "      <td>...</td>\n",
       "      <td>10.6</td>\n",
       "      <td>2</td>\n",
       "      <td>made</td>\n",
       "      <td>Brooks, Aaron</td>\n",
       "      <td>201166</td>\n",
       "      <td>0.7</td>\n",
       "      <td>1</td>\n",
       "      <td>2</td>\n",
       "      <td>brian roberts</td>\n",
       "      <td>203148</td>\n",
       "    </tr>\n",
       "    <tr>\n",
       "      <th>27</th>\n",
       "      <td>21400827</td>\n",
       "      <td>FEB 22, 2015 - CHA @ DAL</td>\n",
       "      <td>A</td>\n",
       "      <td>L</td>\n",
       "      <td>-11</td>\n",
       "      <td>1</td>\n",
       "      <td>1</td>\n",
       "      <td>2:25</td>\n",
       "      <td>12.3</td>\n",
       "      <td>0</td>\n",
       "      <td>...</td>\n",
       "      <td>20.2</td>\n",
       "      <td>2</td>\n",
       "      <td>missed</td>\n",
       "      <td>Harris, Devin</td>\n",
       "      <td>2734</td>\n",
       "      <td>3.5</td>\n",
       "      <td>0</td>\n",
       "      <td>0</td>\n",
       "      <td>brian roberts</td>\n",
       "      <td>203148</td>\n",
       "    </tr>\n",
       "    <tr>\n",
       "      <th>28</th>\n",
       "      <td>21400827</td>\n",
       "      <td>FEB 22, 2015 - CHA @ DAL</td>\n",
       "      <td>A</td>\n",
       "      <td>L</td>\n",
       "      <td>-11</td>\n",
       "      <td>2</td>\n",
       "      <td>2</td>\n",
       "      <td>9:08</td>\n",
       "      <td>18.2</td>\n",
       "      <td>7</td>\n",
       "      <td>...</td>\n",
       "      <td>24.9</td>\n",
       "      <td>3</td>\n",
       "      <td>missed</td>\n",
       "      <td>Barea, Jose Juan</td>\n",
       "      <td>200826</td>\n",
       "      <td>4.5</td>\n",
       "      <td>0</td>\n",
       "      <td>0</td>\n",
       "      <td>brian roberts</td>\n",
       "      <td>203148</td>\n",
       "    </tr>\n",
       "    <tr>\n",
       "      <th>29</th>\n",
       "      <td>21400827</td>\n",
       "      <td>FEB 22, 2015 - CHA @ DAL</td>\n",
       "      <td>A</td>\n",
       "      <td>L</td>\n",
       "      <td>-11</td>\n",
       "      <td>3</td>\n",
       "      <td>2</td>\n",
       "      <td>8:53</td>\n",
       "      <td>11.9</td>\n",
       "      <td>1</td>\n",
       "      <td>...</td>\n",
       "      <td>8.3</td>\n",
       "      <td>2</td>\n",
       "      <td>missed</td>\n",
       "      <td>Barea, Jose Juan</td>\n",
       "      <td>200826</td>\n",
       "      <td>3.5</td>\n",
       "      <td>0</td>\n",
       "      <td>0</td>\n",
       "      <td>brian roberts</td>\n",
       "      <td>203148</td>\n",
       "    </tr>\n",
       "    <tr>\n",
       "      <th>...</th>\n",
       "      <td>...</td>\n",
       "      <td>...</td>\n",
       "      <td>...</td>\n",
       "      <td>...</td>\n",
       "      <td>...</td>\n",
       "      <td>...</td>\n",
       "      <td>...</td>\n",
       "      <td>...</td>\n",
       "      <td>...</td>\n",
       "      <td>...</td>\n",
       "      <td>...</td>\n",
       "      <td>...</td>\n",
       "      <td>...</td>\n",
       "      <td>...</td>\n",
       "      <td>...</td>\n",
       "      <td>...</td>\n",
       "      <td>...</td>\n",
       "      <td>...</td>\n",
       "      <td>...</td>\n",
       "      <td>...</td>\n",
       "      <td>...</td>\n",
       "    </tr>\n",
       "    <tr>\n",
       "      <th>128039</th>\n",
       "      <td>21400075</td>\n",
       "      <td>NOV 07, 2014 - BKN vs. NYK</td>\n",
       "      <td>H</td>\n",
       "      <td>W</td>\n",
       "      <td>11</td>\n",
       "      <td>2</td>\n",
       "      <td>2</td>\n",
       "      <td>9:05</td>\n",
       "      <td>7.9</td>\n",
       "      <td>6</td>\n",
       "      <td>...</td>\n",
       "      <td>10.7</td>\n",
       "      <td>2</td>\n",
       "      <td>missed</td>\n",
       "      <td>Larkin, Shane</td>\n",
       "      <td>203499</td>\n",
       "      <td>1.2</td>\n",
       "      <td>0</td>\n",
       "      <td>0</td>\n",
       "      <td>jarrett jack</td>\n",
       "      <td>101127</td>\n",
       "    </tr>\n",
       "    <tr>\n",
       "      <th>128040</th>\n",
       "      <td>21400075</td>\n",
       "      <td>NOV 07, 2014 - BKN vs. NYK</td>\n",
       "      <td>H</td>\n",
       "      <td>W</td>\n",
       "      <td>11</td>\n",
       "      <td>3</td>\n",
       "      <td>4</td>\n",
       "      <td>11:13</td>\n",
       "      <td>8.8</td>\n",
       "      <td>0</td>\n",
       "      <td>...</td>\n",
       "      <td>2.5</td>\n",
       "      <td>2</td>\n",
       "      <td>missed</td>\n",
       "      <td>Smith, Jason</td>\n",
       "      <td>201160</td>\n",
       "      <td>5.1</td>\n",
       "      <td>0</td>\n",
       "      <td>0</td>\n",
       "      <td>jarrett jack</td>\n",
       "      <td>101127</td>\n",
       "    </tr>\n",
       "    <tr>\n",
       "      <th>128041</th>\n",
       "      <td>21400075</td>\n",
       "      <td>NOV 07, 2014 - BKN vs. NYK</td>\n",
       "      <td>H</td>\n",
       "      <td>W</td>\n",
       "      <td>11</td>\n",
       "      <td>4</td>\n",
       "      <td>4</td>\n",
       "      <td>4:23</td>\n",
       "      <td>10.3</td>\n",
       "      <td>3</td>\n",
       "      <td>...</td>\n",
       "      <td>7.5</td>\n",
       "      <td>2</td>\n",
       "      <td>made</td>\n",
       "      <td>Larkin, Shane</td>\n",
       "      <td>203499</td>\n",
       "      <td>0.9</td>\n",
       "      <td>1</td>\n",
       "      <td>2</td>\n",
       "      <td>jarrett jack</td>\n",
       "      <td>101127</td>\n",
       "    </tr>\n",
       "    <tr>\n",
       "      <th>128042</th>\n",
       "      <td>21400075</td>\n",
       "      <td>NOV 07, 2014 - BKN vs. NYK</td>\n",
       "      <td>H</td>\n",
       "      <td>W</td>\n",
       "      <td>11</td>\n",
       "      <td>5</td>\n",
       "      <td>4</td>\n",
       "      <td>0:06</td>\n",
       "      <td>4.0</td>\n",
       "      <td>20</td>\n",
       "      <td>...</td>\n",
       "      <td>6.8</td>\n",
       "      <td>2</td>\n",
       "      <td>made</td>\n",
       "      <td>Wear, Travis</td>\n",
       "      <td>204037</td>\n",
       "      <td>0.9</td>\n",
       "      <td>1</td>\n",
       "      <td>2</td>\n",
       "      <td>jarrett jack</td>\n",
       "      <td>101127</td>\n",
       "    </tr>\n",
       "    <tr>\n",
       "      <th>128043</th>\n",
       "      <td>21400060</td>\n",
       "      <td>NOV 05, 2014 - BKN vs. MIN</td>\n",
       "      <td>H</td>\n",
       "      <td>L</td>\n",
       "      <td>-7</td>\n",
       "      <td>1</td>\n",
       "      <td>2</td>\n",
       "      <td>11:48</td>\n",
       "      <td>12.1</td>\n",
       "      <td>16</td>\n",
       "      <td>...</td>\n",
       "      <td>16.2</td>\n",
       "      <td>2</td>\n",
       "      <td>made</td>\n",
       "      <td>Williams, Mo</td>\n",
       "      <td>2590</td>\n",
       "      <td>2.5</td>\n",
       "      <td>1</td>\n",
       "      <td>2</td>\n",
       "      <td>jarrett jack</td>\n",
       "      <td>101127</td>\n",
       "    </tr>\n",
       "    <tr>\n",
       "      <th>128044</th>\n",
       "      <td>21400060</td>\n",
       "      <td>NOV 05, 2014 - BKN vs. MIN</td>\n",
       "      <td>H</td>\n",
       "      <td>L</td>\n",
       "      <td>-7</td>\n",
       "      <td>2</td>\n",
       "      <td>2</td>\n",
       "      <td>10:05</td>\n",
       "      <td>8.4</td>\n",
       "      <td>3</td>\n",
       "      <td>...</td>\n",
       "      <td>17.7</td>\n",
       "      <td>2</td>\n",
       "      <td>missed</td>\n",
       "      <td>Williams, Mo</td>\n",
       "      <td>2590</td>\n",
       "      <td>1.8</td>\n",
       "      <td>0</td>\n",
       "      <td>0</td>\n",
       "      <td>jarrett jack</td>\n",
       "      <td>101127</td>\n",
       "    </tr>\n",
       "    <tr>\n",
       "      <th>128045</th>\n",
       "      <td>21400060</td>\n",
       "      <td>NOV 05, 2014 - BKN vs. MIN</td>\n",
       "      <td>H</td>\n",
       "      <td>L</td>\n",
       "      <td>-7</td>\n",
       "      <td>3</td>\n",
       "      <td>2</td>\n",
       "      <td>9:34</td>\n",
       "      <td>9.0</td>\n",
       "      <td>0</td>\n",
       "      <td>...</td>\n",
       "      <td>3.6</td>\n",
       "      <td>2</td>\n",
       "      <td>missed</td>\n",
       "      <td>Dieng, Gorgui</td>\n",
       "      <td>203476</td>\n",
       "      <td>1.5</td>\n",
       "      <td>0</td>\n",
       "      <td>0</td>\n",
       "      <td>jarrett jack</td>\n",
       "      <td>101127</td>\n",
       "    </tr>\n",
       "    <tr>\n",
       "      <th>128046</th>\n",
       "      <td>21400060</td>\n",
       "      <td>NOV 05, 2014 - BKN vs. MIN</td>\n",
       "      <td>H</td>\n",
       "      <td>L</td>\n",
       "      <td>-7</td>\n",
       "      <td>4</td>\n",
       "      <td>3</td>\n",
       "      <td>4:01</td>\n",
       "      <td>19.3</td>\n",
       "      <td>2</td>\n",
       "      <td>...</td>\n",
       "      <td>17.0</td>\n",
       "      <td>2</td>\n",
       "      <td>missed</td>\n",
       "      <td>Martin, Kevin</td>\n",
       "      <td>2755</td>\n",
       "      <td>3.6</td>\n",
       "      <td>0</td>\n",
       "      <td>0</td>\n",
       "      <td>jarrett jack</td>\n",
       "      <td>101127</td>\n",
       "    </tr>\n",
       "    <tr>\n",
       "      <th>128047</th>\n",
       "      <td>21400060</td>\n",
       "      <td>NOV 05, 2014 - BKN vs. MIN</td>\n",
       "      <td>H</td>\n",
       "      <td>L</td>\n",
       "      <td>-7</td>\n",
       "      <td>5</td>\n",
       "      <td>3</td>\n",
       "      <td>3:05</td>\n",
       "      <td>7.3</td>\n",
       "      <td>6</td>\n",
       "      <td>...</td>\n",
       "      <td>15.5</td>\n",
       "      <td>2</td>\n",
       "      <td>made</td>\n",
       "      <td>Williams, Mo</td>\n",
       "      <td>2590</td>\n",
       "      <td>2.4</td>\n",
       "      <td>1</td>\n",
       "      <td>2</td>\n",
       "      <td>jarrett jack</td>\n",
       "      <td>101127</td>\n",
       "    </tr>\n",
       "    <tr>\n",
       "      <th>128048</th>\n",
       "      <td>21400060</td>\n",
       "      <td>NOV 05, 2014 - BKN vs. MIN</td>\n",
       "      <td>H</td>\n",
       "      <td>L</td>\n",
       "      <td>-7</td>\n",
       "      <td>6</td>\n",
       "      <td>4</td>\n",
       "      <td>11:01</td>\n",
       "      <td>9.0</td>\n",
       "      <td>0</td>\n",
       "      <td>...</td>\n",
       "      <td>20.2</td>\n",
       "      <td>2</td>\n",
       "      <td>made</td>\n",
       "      <td>Brewer, Corey</td>\n",
       "      <td>201147</td>\n",
       "      <td>11.1</td>\n",
       "      <td>1</td>\n",
       "      <td>2</td>\n",
       "      <td>jarrett jack</td>\n",
       "      <td>101127</td>\n",
       "    </tr>\n",
       "    <tr>\n",
       "      <th>128049</th>\n",
       "      <td>21400060</td>\n",
       "      <td>NOV 05, 2014 - BKN vs. MIN</td>\n",
       "      <td>H</td>\n",
       "      <td>L</td>\n",
       "      <td>-7</td>\n",
       "      <td>7</td>\n",
       "      <td>4</td>\n",
       "      <td>7:27</td>\n",
       "      <td>11.0</td>\n",
       "      <td>2</td>\n",
       "      <td>...</td>\n",
       "      <td>9.4</td>\n",
       "      <td>2</td>\n",
       "      <td>made</td>\n",
       "      <td>Pekovic, Nikola</td>\n",
       "      <td>201593</td>\n",
       "      <td>6.0</td>\n",
       "      <td>1</td>\n",
       "      <td>2</td>\n",
       "      <td>jarrett jack</td>\n",
       "      <td>101127</td>\n",
       "    </tr>\n",
       "    <tr>\n",
       "      <th>128050</th>\n",
       "      <td>21400060</td>\n",
       "      <td>NOV 05, 2014 - BKN vs. MIN</td>\n",
       "      <td>H</td>\n",
       "      <td>L</td>\n",
       "      <td>-7</td>\n",
       "      <td>8</td>\n",
       "      <td>4</td>\n",
       "      <td>6:41</td>\n",
       "      <td>22.7</td>\n",
       "      <td>1</td>\n",
       "      <td>...</td>\n",
       "      <td>2.3</td>\n",
       "      <td>2</td>\n",
       "      <td>made</td>\n",
       "      <td>Williams, Mo</td>\n",
       "      <td>2590</td>\n",
       "      <td>7.7</td>\n",
       "      <td>1</td>\n",
       "      <td>2</td>\n",
       "      <td>jarrett jack</td>\n",
       "      <td>101127</td>\n",
       "    </tr>\n",
       "    <tr>\n",
       "      <th>128051</th>\n",
       "      <td>21400044</td>\n",
       "      <td>NOV 03, 2014 - BKN vs. OKC</td>\n",
       "      <td>H</td>\n",
       "      <td>W</td>\n",
       "      <td>31</td>\n",
       "      <td>2</td>\n",
       "      <td>1</td>\n",
       "      <td>0:16</td>\n",
       "      <td>NaN</td>\n",
       "      <td>3</td>\n",
       "      <td>...</td>\n",
       "      <td>2.6</td>\n",
       "      <td>2</td>\n",
       "      <td>made</td>\n",
       "      <td>Telfair, Sebastian</td>\n",
       "      <td>2742</td>\n",
       "      <td>5.4</td>\n",
       "      <td>1</td>\n",
       "      <td>2</td>\n",
       "      <td>jarrett jack</td>\n",
       "      <td>101127</td>\n",
       "    </tr>\n",
       "    <tr>\n",
       "      <th>128052</th>\n",
       "      <td>21400044</td>\n",
       "      <td>NOV 03, 2014 - BKN vs. OKC</td>\n",
       "      <td>H</td>\n",
       "      <td>W</td>\n",
       "      <td>31</td>\n",
       "      <td>3</td>\n",
       "      <td>2</td>\n",
       "      <td>10:29</td>\n",
       "      <td>19.3</td>\n",
       "      <td>2</td>\n",
       "      <td>...</td>\n",
       "      <td>18.9</td>\n",
       "      <td>2</td>\n",
       "      <td>missed</td>\n",
       "      <td>Telfair, Sebastian</td>\n",
       "      <td>2742</td>\n",
       "      <td>3.8</td>\n",
       "      <td>0</td>\n",
       "      <td>0</td>\n",
       "      <td>jarrett jack</td>\n",
       "      <td>101127</td>\n",
       "    </tr>\n",
       "    <tr>\n",
       "      <th>128053</th>\n",
       "      <td>21400044</td>\n",
       "      <td>NOV 03, 2014 - BKN vs. OKC</td>\n",
       "      <td>H</td>\n",
       "      <td>W</td>\n",
       "      <td>31</td>\n",
       "      <td>4</td>\n",
       "      <td>3</td>\n",
       "      <td>6:15</td>\n",
       "      <td>3.2</td>\n",
       "      <td>5</td>\n",
       "      <td>...</td>\n",
       "      <td>13.7</td>\n",
       "      <td>2</td>\n",
       "      <td>missed</td>\n",
       "      <td>Adams, Steven</td>\n",
       "      <td>203500</td>\n",
       "      <td>2.8</td>\n",
       "      <td>0</td>\n",
       "      <td>0</td>\n",
       "      <td>jarrett jack</td>\n",
       "      <td>101127</td>\n",
       "    </tr>\n",
       "    <tr>\n",
       "      <th>128054</th>\n",
       "      <td>21400044</td>\n",
       "      <td>NOV 03, 2014 - BKN vs. OKC</td>\n",
       "      <td>H</td>\n",
       "      <td>W</td>\n",
       "      <td>31</td>\n",
       "      <td>5</td>\n",
       "      <td>3</td>\n",
       "      <td>3:17</td>\n",
       "      <td>4.1</td>\n",
       "      <td>2</td>\n",
       "      <td>...</td>\n",
       "      <td>11.1</td>\n",
       "      <td>2</td>\n",
       "      <td>missed</td>\n",
       "      <td>Telfair, Sebastian</td>\n",
       "      <td>2742</td>\n",
       "      <td>4.2</td>\n",
       "      <td>0</td>\n",
       "      <td>0</td>\n",
       "      <td>jarrett jack</td>\n",
       "      <td>101127</td>\n",
       "    </tr>\n",
       "    <tr>\n",
       "      <th>128055</th>\n",
       "      <td>21400044</td>\n",
       "      <td>NOV 03, 2014 - BKN vs. OKC</td>\n",
       "      <td>H</td>\n",
       "      <td>W</td>\n",
       "      <td>31</td>\n",
       "      <td>6</td>\n",
       "      <td>4</td>\n",
       "      <td>11:22</td>\n",
       "      <td>13.8</td>\n",
       "      <td>0</td>\n",
       "      <td>...</td>\n",
       "      <td>5.1</td>\n",
       "      <td>2</td>\n",
       "      <td>missed</td>\n",
       "      <td>Jackson, Reggie</td>\n",
       "      <td>202704</td>\n",
       "      <td>2.1</td>\n",
       "      <td>0</td>\n",
       "      <td>0</td>\n",
       "      <td>jarrett jack</td>\n",
       "      <td>101127</td>\n",
       "    </tr>\n",
       "    <tr>\n",
       "      <th>128056</th>\n",
       "      <td>21400033</td>\n",
       "      <td>NOV 01, 2014 - BKN @ DET</td>\n",
       "      <td>A</td>\n",
       "      <td>W</td>\n",
       "      <td>12</td>\n",
       "      <td>1</td>\n",
       "      <td>1</td>\n",
       "      <td>1:50</td>\n",
       "      <td>7.1</td>\n",
       "      <td>2</td>\n",
       "      <td>...</td>\n",
       "      <td>15.5</td>\n",
       "      <td>2</td>\n",
       "      <td>missed</td>\n",
       "      <td>Jennings, Brandon</td>\n",
       "      <td>201943</td>\n",
       "      <td>3.1</td>\n",
       "      <td>0</td>\n",
       "      <td>0</td>\n",
       "      <td>jarrett jack</td>\n",
       "      <td>101127</td>\n",
       "    </tr>\n",
       "    <tr>\n",
       "      <th>128057</th>\n",
       "      <td>21400033</td>\n",
       "      <td>NOV 01, 2014 - BKN @ DET</td>\n",
       "      <td>A</td>\n",
       "      <td>W</td>\n",
       "      <td>12</td>\n",
       "      <td>2</td>\n",
       "      <td>2</td>\n",
       "      <td>10:02</td>\n",
       "      <td>7.3</td>\n",
       "      <td>0</td>\n",
       "      <td>...</td>\n",
       "      <td>22.1</td>\n",
       "      <td>3</td>\n",
       "      <td>missed</td>\n",
       "      <td>Augustin, D.J.</td>\n",
       "      <td>201571</td>\n",
       "      <td>2.9</td>\n",
       "      <td>0</td>\n",
       "      <td>0</td>\n",
       "      <td>jarrett jack</td>\n",
       "      <td>101127</td>\n",
       "    </tr>\n",
       "    <tr>\n",
       "      <th>128058</th>\n",
       "      <td>21400033</td>\n",
       "      <td>NOV 01, 2014 - BKN @ DET</td>\n",
       "      <td>A</td>\n",
       "      <td>W</td>\n",
       "      <td>12</td>\n",
       "      <td>3</td>\n",
       "      <td>4</td>\n",
       "      <td>10:57</td>\n",
       "      <td>14.3</td>\n",
       "      <td>2</td>\n",
       "      <td>...</td>\n",
       "      <td>18.2</td>\n",
       "      <td>2</td>\n",
       "      <td>made</td>\n",
       "      <td>Augustin, D.J.</td>\n",
       "      <td>201571</td>\n",
       "      <td>1.1</td>\n",
       "      <td>1</td>\n",
       "      <td>2</td>\n",
       "      <td>jarrett jack</td>\n",
       "      <td>101127</td>\n",
       "    </tr>\n",
       "    <tr>\n",
       "      <th>128059</th>\n",
       "      <td>21400033</td>\n",
       "      <td>NOV 01, 2014 - BKN @ DET</td>\n",
       "      <td>A</td>\n",
       "      <td>W</td>\n",
       "      <td>12</td>\n",
       "      <td>4</td>\n",
       "      <td>4</td>\n",
       "      <td>8:34</td>\n",
       "      <td>19.8</td>\n",
       "      <td>0</td>\n",
       "      <td>...</td>\n",
       "      <td>22.7</td>\n",
       "      <td>3</td>\n",
       "      <td>missed</td>\n",
       "      <td>Augustin, D.J.</td>\n",
       "      <td>201571</td>\n",
       "      <td>4.0</td>\n",
       "      <td>0</td>\n",
       "      <td>0</td>\n",
       "      <td>jarrett jack</td>\n",
       "      <td>101127</td>\n",
       "    </tr>\n",
       "    <tr>\n",
       "      <th>128060</th>\n",
       "      <td>21400006</td>\n",
       "      <td>OCT 29, 2014 - BKN @ BOS</td>\n",
       "      <td>A</td>\n",
       "      <td>L</td>\n",
       "      <td>-16</td>\n",
       "      <td>1</td>\n",
       "      <td>1</td>\n",
       "      <td>1:59</td>\n",
       "      <td>11.4</td>\n",
       "      <td>16</td>\n",
       "      <td>...</td>\n",
       "      <td>12.6</td>\n",
       "      <td>2</td>\n",
       "      <td>missed</td>\n",
       "      <td>Rondo, Rajon</td>\n",
       "      <td>200765</td>\n",
       "      <td>4.8</td>\n",
       "      <td>0</td>\n",
       "      <td>0</td>\n",
       "      <td>jarrett jack</td>\n",
       "      <td>101127</td>\n",
       "    </tr>\n",
       "    <tr>\n",
       "      <th>128061</th>\n",
       "      <td>21400006</td>\n",
       "      <td>OCT 29, 2014 - BKN @ BOS</td>\n",
       "      <td>A</td>\n",
       "      <td>L</td>\n",
       "      <td>-16</td>\n",
       "      <td>2</td>\n",
       "      <td>2</td>\n",
       "      <td>10:10</td>\n",
       "      <td>19.0</td>\n",
       "      <td>0</td>\n",
       "      <td>...</td>\n",
       "      <td>7.4</td>\n",
       "      <td>2</td>\n",
       "      <td>missed</td>\n",
       "      <td>Bradley, Avery</td>\n",
       "      <td>202340</td>\n",
       "      <td>2.7</td>\n",
       "      <td>0</td>\n",
       "      <td>0</td>\n",
       "      <td>jarrett jack</td>\n",
       "      <td>101127</td>\n",
       "    </tr>\n",
       "    <tr>\n",
       "      <th>128062</th>\n",
       "      <td>21400006</td>\n",
       "      <td>OCT 29, 2014 - BKN @ BOS</td>\n",
       "      <td>A</td>\n",
       "      <td>L</td>\n",
       "      <td>-16</td>\n",
       "      <td>3</td>\n",
       "      <td>2</td>\n",
       "      <td>7:46</td>\n",
       "      <td>7.0</td>\n",
       "      <td>1</td>\n",
       "      <td>...</td>\n",
       "      <td>14.5</td>\n",
       "      <td>2</td>\n",
       "      <td>made</td>\n",
       "      <td>Smart, Marcus</td>\n",
       "      <td>203935</td>\n",
       "      <td>3.1</td>\n",
       "      <td>1</td>\n",
       "      <td>2</td>\n",
       "      <td>jarrett jack</td>\n",
       "      <td>101127</td>\n",
       "    </tr>\n",
       "    <tr>\n",
       "      <th>128063</th>\n",
       "      <td>21400006</td>\n",
       "      <td>OCT 29, 2014 - BKN @ BOS</td>\n",
       "      <td>A</td>\n",
       "      <td>L</td>\n",
       "      <td>-16</td>\n",
       "      <td>4</td>\n",
       "      <td>2</td>\n",
       "      <td>5:05</td>\n",
       "      <td>15.3</td>\n",
       "      <td>2</td>\n",
       "      <td>...</td>\n",
       "      <td>8.9</td>\n",
       "      <td>2</td>\n",
       "      <td>made</td>\n",
       "      <td>Sullinger, Jared</td>\n",
       "      <td>203096</td>\n",
       "      <td>5.7</td>\n",
       "      <td>1</td>\n",
       "      <td>2</td>\n",
       "      <td>jarrett jack</td>\n",
       "      <td>101127</td>\n",
       "    </tr>\n",
       "    <tr>\n",
       "      <th>128064</th>\n",
       "      <td>21400006</td>\n",
       "      <td>OCT 29, 2014 - BKN @ BOS</td>\n",
       "      <td>A</td>\n",
       "      <td>L</td>\n",
       "      <td>-16</td>\n",
       "      <td>5</td>\n",
       "      <td>3</td>\n",
       "      <td>1:52</td>\n",
       "      <td>18.3</td>\n",
       "      <td>5</td>\n",
       "      <td>...</td>\n",
       "      <td>8.7</td>\n",
       "      <td>2</td>\n",
       "      <td>missed</td>\n",
       "      <td>Smart, Marcus</td>\n",
       "      <td>203935</td>\n",
       "      <td>0.8</td>\n",
       "      <td>0</td>\n",
       "      <td>0</td>\n",
       "      <td>jarrett jack</td>\n",
       "      <td>101127</td>\n",
       "    </tr>\n",
       "    <tr>\n",
       "      <th>128065</th>\n",
       "      <td>21400006</td>\n",
       "      <td>OCT 29, 2014 - BKN @ BOS</td>\n",
       "      <td>A</td>\n",
       "      <td>L</td>\n",
       "      <td>-16</td>\n",
       "      <td>6</td>\n",
       "      <td>4</td>\n",
       "      <td>11:28</td>\n",
       "      <td>19.8</td>\n",
       "      <td>4</td>\n",
       "      <td>...</td>\n",
       "      <td>0.6</td>\n",
       "      <td>2</td>\n",
       "      <td>made</td>\n",
       "      <td>Turner, Evan</td>\n",
       "      <td>202323</td>\n",
       "      <td>0.6</td>\n",
       "      <td>1</td>\n",
       "      <td>2</td>\n",
       "      <td>jarrett jack</td>\n",
       "      <td>101127</td>\n",
       "    </tr>\n",
       "    <tr>\n",
       "      <th>128066</th>\n",
       "      <td>21400006</td>\n",
       "      <td>OCT 29, 2014 - BKN @ BOS</td>\n",
       "      <td>A</td>\n",
       "      <td>L</td>\n",
       "      <td>-16</td>\n",
       "      <td>7</td>\n",
       "      <td>4</td>\n",
       "      <td>11:10</td>\n",
       "      <td>23.0</td>\n",
       "      <td>2</td>\n",
       "      <td>...</td>\n",
       "      <td>16.9</td>\n",
       "      <td>2</td>\n",
       "      <td>made</td>\n",
       "      <td>Thornton, Marcus</td>\n",
       "      <td>201977</td>\n",
       "      <td>4.2</td>\n",
       "      <td>1</td>\n",
       "      <td>2</td>\n",
       "      <td>jarrett jack</td>\n",
       "      <td>101127</td>\n",
       "    </tr>\n",
       "    <tr>\n",
       "      <th>128067</th>\n",
       "      <td>21400006</td>\n",
       "      <td>OCT 29, 2014 - BKN @ BOS</td>\n",
       "      <td>A</td>\n",
       "      <td>L</td>\n",
       "      <td>-16</td>\n",
       "      <td>8</td>\n",
       "      <td>4</td>\n",
       "      <td>2:37</td>\n",
       "      <td>9.1</td>\n",
       "      <td>4</td>\n",
       "      <td>...</td>\n",
       "      <td>18.3</td>\n",
       "      <td>2</td>\n",
       "      <td>missed</td>\n",
       "      <td>Bradley, Avery</td>\n",
       "      <td>202340</td>\n",
       "      <td>3.0</td>\n",
       "      <td>0</td>\n",
       "      <td>0</td>\n",
       "      <td>jarrett jack</td>\n",
       "      <td>101127</td>\n",
       "    </tr>\n",
       "    <tr>\n",
       "      <th>128068</th>\n",
       "      <td>21400006</td>\n",
       "      <td>OCT 29, 2014 - BKN @ BOS</td>\n",
       "      <td>A</td>\n",
       "      <td>L</td>\n",
       "      <td>-16</td>\n",
       "      <td>9</td>\n",
       "      <td>4</td>\n",
       "      <td>0:12</td>\n",
       "      <td>NaN</td>\n",
       "      <td>5</td>\n",
       "      <td>...</td>\n",
       "      <td>5.1</td>\n",
       "      <td>2</td>\n",
       "      <td>made</td>\n",
       "      <td>Bradley, Avery</td>\n",
       "      <td>202340</td>\n",
       "      <td>2.3</td>\n",
       "      <td>1</td>\n",
       "      <td>2</td>\n",
       "      <td>jarrett jack</td>\n",
       "      <td>101127</td>\n",
       "    </tr>\n",
       "  </tbody>\n",
       "</table>\n",
       "<p>128069 rows × 21 columns</p>\n",
       "</div>"
      ],
      "text/plain": [
       "         GAME_ID                     MATCHUP LOCATION  W  FINAL_MARGIN  \\\n",
       "0       21400899    MAR 04, 2015 - CHA @ BKN        A  W            24   \n",
       "1       21400899    MAR 04, 2015 - CHA @ BKN        A  W            24   \n",
       "2       21400899    MAR 04, 2015 - CHA @ BKN        A  W            24   \n",
       "3       21400899    MAR 04, 2015 - CHA @ BKN        A  W            24   \n",
       "4       21400899    MAR 04, 2015 - CHA @ BKN        A  W            24   \n",
       "5       21400899    MAR 04, 2015 - CHA @ BKN        A  W            24   \n",
       "6       21400899    MAR 04, 2015 - CHA @ BKN        A  W            24   \n",
       "7       21400899    MAR 04, 2015 - CHA @ BKN        A  W            24   \n",
       "8       21400899    MAR 04, 2015 - CHA @ BKN        A  W            24   \n",
       "9       21400890  MAR 03, 2015 - CHA vs. LAL        H  W             1   \n",
       "10      21400890  MAR 03, 2015 - CHA vs. LAL        H  W             1   \n",
       "11      21400890  MAR 03, 2015 - CHA vs. LAL        H  W             1   \n",
       "12      21400890  MAR 03, 2015 - CHA vs. LAL        H  W             1   \n",
       "13      21400882    MAR 01, 2015 - CHA @ ORL        A  W            15   \n",
       "14      21400859    FEB 27, 2015 - CHA @ BOS        A  L            -8   \n",
       "15      21400859    FEB 27, 2015 - CHA @ BOS        A  L            -8   \n",
       "16      21400859    FEB 27, 2015 - CHA @ BOS        A  L            -8   \n",
       "17      21400859    FEB 27, 2015 - CHA @ BOS        A  L            -8   \n",
       "18      21400859    FEB 27, 2015 - CHA @ BOS        A  L            -8   \n",
       "19      21400845    FEB 25, 2015 - CHA @ CHI        A  W            12   \n",
       "20      21400845    FEB 25, 2015 - CHA @ CHI        A  W            12   \n",
       "21      21400845    FEB 25, 2015 - CHA @ CHI        A  W            12   \n",
       "22      21400845    FEB 25, 2015 - CHA @ CHI        A  W            12   \n",
       "23      21400845    FEB 25, 2015 - CHA @ CHI        A  W            12   \n",
       "24      21400845    FEB 25, 2015 - CHA @ CHI        A  W            12   \n",
       "25      21400845    FEB 25, 2015 - CHA @ CHI        A  W            12   \n",
       "26      21400845    FEB 25, 2015 - CHA @ CHI        A  W            12   \n",
       "27      21400827    FEB 22, 2015 - CHA @ DAL        A  L           -11   \n",
       "28      21400827    FEB 22, 2015 - CHA @ DAL        A  L           -11   \n",
       "29      21400827    FEB 22, 2015 - CHA @ DAL        A  L           -11   \n",
       "...          ...                         ...      ... ..           ...   \n",
       "128039  21400075  NOV 07, 2014 - BKN vs. NYK        H  W            11   \n",
       "128040  21400075  NOV 07, 2014 - BKN vs. NYK        H  W            11   \n",
       "128041  21400075  NOV 07, 2014 - BKN vs. NYK        H  W            11   \n",
       "128042  21400075  NOV 07, 2014 - BKN vs. NYK        H  W            11   \n",
       "128043  21400060  NOV 05, 2014 - BKN vs. MIN        H  L            -7   \n",
       "128044  21400060  NOV 05, 2014 - BKN vs. MIN        H  L            -7   \n",
       "128045  21400060  NOV 05, 2014 - BKN vs. MIN        H  L            -7   \n",
       "128046  21400060  NOV 05, 2014 - BKN vs. MIN        H  L            -7   \n",
       "128047  21400060  NOV 05, 2014 - BKN vs. MIN        H  L            -7   \n",
       "128048  21400060  NOV 05, 2014 - BKN vs. MIN        H  L            -7   \n",
       "128049  21400060  NOV 05, 2014 - BKN vs. MIN        H  L            -7   \n",
       "128050  21400060  NOV 05, 2014 - BKN vs. MIN        H  L            -7   \n",
       "128051  21400044  NOV 03, 2014 - BKN vs. OKC        H  W            31   \n",
       "128052  21400044  NOV 03, 2014 - BKN vs. OKC        H  W            31   \n",
       "128053  21400044  NOV 03, 2014 - BKN vs. OKC        H  W            31   \n",
       "128054  21400044  NOV 03, 2014 - BKN vs. OKC        H  W            31   \n",
       "128055  21400044  NOV 03, 2014 - BKN vs. OKC        H  W            31   \n",
       "128056  21400033    NOV 01, 2014 - BKN @ DET        A  W            12   \n",
       "128057  21400033    NOV 01, 2014 - BKN @ DET        A  W            12   \n",
       "128058  21400033    NOV 01, 2014 - BKN @ DET        A  W            12   \n",
       "128059  21400033    NOV 01, 2014 - BKN @ DET        A  W            12   \n",
       "128060  21400006    OCT 29, 2014 - BKN @ BOS        A  L           -16   \n",
       "128061  21400006    OCT 29, 2014 - BKN @ BOS        A  L           -16   \n",
       "128062  21400006    OCT 29, 2014 - BKN @ BOS        A  L           -16   \n",
       "128063  21400006    OCT 29, 2014 - BKN @ BOS        A  L           -16   \n",
       "128064  21400006    OCT 29, 2014 - BKN @ BOS        A  L           -16   \n",
       "128065  21400006    OCT 29, 2014 - BKN @ BOS        A  L           -16   \n",
       "128066  21400006    OCT 29, 2014 - BKN @ BOS        A  L           -16   \n",
       "128067  21400006    OCT 29, 2014 - BKN @ BOS        A  L           -16   \n",
       "128068  21400006    OCT 29, 2014 - BKN @ BOS        A  L           -16   \n",
       "\n",
       "        SHOT_NUMBER  PERIOD GAME_CLOCK  SHOT_CLOCK  DRIBBLES    ...     \\\n",
       "0                 1       1       1:09        10.8         2    ...      \n",
       "1                 2       1       0:14         3.4         0    ...      \n",
       "2                 3       1       0:00         NaN         3    ...      \n",
       "3                 4       2      11:47        10.3         2    ...      \n",
       "4                 5       2      10:34        10.9         2    ...      \n",
       "5                 6       2       8:15         9.1         2    ...      \n",
       "6                 7       4      10:15        14.5        11    ...      \n",
       "7                 8       4       8:00         3.4         3    ...      \n",
       "8                 9       4       5:14        12.4         0    ...      \n",
       "9                 1       2      11:32        17.4         0    ...      \n",
       "10                2       2       6:30        16.0         8    ...      \n",
       "11                3       4      11:32        12.1        14    ...      \n",
       "12                4       4       8:55         4.3         2    ...      \n",
       "13                1       4       9:10         4.4         0    ...      \n",
       "14                1       1       0:48         6.8         0    ...      \n",
       "15                2       2      10:38         6.4         3    ...      \n",
       "16                3       2       8:27        17.6         6    ...      \n",
       "17                4       4      10:55         8.7         1    ...      \n",
       "18                5       4      10:29        20.8         0    ...      \n",
       "19                1       1       3:35        17.5         2    ...      \n",
       "20                2       1       0:33        19.5         5    ...      \n",
       "21                3       2       8:50         6.0         6    ...      \n",
       "22                4       2       8:24        15.7         0    ...      \n",
       "23                5       2       5:32        11.2        16    ...      \n",
       "24                6       2       0:04         NaN         0    ...      \n",
       "25                7       4      10:13        17.1         7    ...      \n",
       "26                8       4       5:34        15.4         1    ...      \n",
       "27                1       1       2:25        12.3         0    ...      \n",
       "28                2       2       9:08        18.2         7    ...      \n",
       "29                3       2       8:53        11.9         1    ...      \n",
       "...             ...     ...        ...         ...       ...    ...      \n",
       "128039            2       2       9:05         7.9         6    ...      \n",
       "128040            3       4      11:13         8.8         0    ...      \n",
       "128041            4       4       4:23        10.3         3    ...      \n",
       "128042            5       4       0:06         4.0        20    ...      \n",
       "128043            1       2      11:48        12.1        16    ...      \n",
       "128044            2       2      10:05         8.4         3    ...      \n",
       "128045            3       2       9:34         9.0         0    ...      \n",
       "128046            4       3       4:01        19.3         2    ...      \n",
       "128047            5       3       3:05         7.3         6    ...      \n",
       "128048            6       4      11:01         9.0         0    ...      \n",
       "128049            7       4       7:27        11.0         2    ...      \n",
       "128050            8       4       6:41        22.7         1    ...      \n",
       "128051            2       1       0:16         NaN         3    ...      \n",
       "128052            3       2      10:29        19.3         2    ...      \n",
       "128053            4       3       6:15         3.2         5    ...      \n",
       "128054            5       3       3:17         4.1         2    ...      \n",
       "128055            6       4      11:22        13.8         0    ...      \n",
       "128056            1       1       1:50         7.1         2    ...      \n",
       "128057            2       2      10:02         7.3         0    ...      \n",
       "128058            3       4      10:57        14.3         2    ...      \n",
       "128059            4       4       8:34        19.8         0    ...      \n",
       "128060            1       1       1:59        11.4        16    ...      \n",
       "128061            2       2      10:10        19.0         0    ...      \n",
       "128062            3       2       7:46         7.0         1    ...      \n",
       "128063            4       2       5:05        15.3         2    ...      \n",
       "128064            5       3       1:52        18.3         5    ...      \n",
       "128065            6       4      11:28        19.8         4    ...      \n",
       "128066            7       4      11:10        23.0         2    ...      \n",
       "128067            8       4       2:37         9.1         4    ...      \n",
       "128068            9       4       0:12         NaN         5    ...      \n",
       "\n",
       "        SHOT_DIST  PTS_TYPE  SHOT_RESULT    CLOSEST_DEFENDER  \\\n",
       "0             7.7         2         made      Anderson, Alan   \n",
       "1            28.2         3       missed   Bogdanovic, Bojan   \n",
       "2            10.1         2       missed   Bogdanovic, Bojan   \n",
       "3            17.2         2       missed       Brown, Markel   \n",
       "4             3.7         2       missed     Young, Thaddeus   \n",
       "5            18.4         2       missed     Williams, Deron   \n",
       "6            20.7         2       missed       Jack, Jarrett   \n",
       "7             3.5         2         made      Plumlee, Mason   \n",
       "8            24.6         3       missed      Morris, Darius   \n",
       "9            22.4         3       missed    Ellington, Wayne   \n",
       "10           24.5         3       missed         Lin, Jeremy   \n",
       "11           14.6         2         made         Lin, Jeremy   \n",
       "12            5.9         2         made        Hill, Jordan   \n",
       "13           26.4         3       missed       Green, Willie   \n",
       "14           22.8         3       missed       Smart, Marcus   \n",
       "15           24.7         3         made        Young, James   \n",
       "16           25.0         3       missed      Jerebko, Jonas   \n",
       "17           25.6         3       missed        Crowder, Jae   \n",
       "18           24.2         3         made      Thomas, Isaiah   \n",
       "19           25.4         3       missed       Brooks, Aaron   \n",
       "20           19.1         2         made       Hinrich, Kirk   \n",
       "21           14.8         2         made         Gibson, Taj   \n",
       "22           25.2         3       missed       Hinrich, Kirk   \n",
       "23           22.8         3         made         Gibson, Taj   \n",
       "24           25.2         3       missed       Butler, Jimmy   \n",
       "25           24.6         3         made        Noah, Joakim   \n",
       "26           10.6         2         made       Brooks, Aaron   \n",
       "27           20.2         2       missed       Harris, Devin   \n",
       "28           24.9         3       missed    Barea, Jose Juan   \n",
       "29            8.3         2       missed    Barea, Jose Juan   \n",
       "...           ...       ...          ...                 ...   \n",
       "128039       10.7         2       missed       Larkin, Shane   \n",
       "128040        2.5         2       missed        Smith, Jason   \n",
       "128041        7.5         2         made       Larkin, Shane   \n",
       "128042        6.8         2         made        Wear, Travis   \n",
       "128043       16.2         2         made        Williams, Mo   \n",
       "128044       17.7         2       missed        Williams, Mo   \n",
       "128045        3.6         2       missed       Dieng, Gorgui   \n",
       "128046       17.0         2       missed       Martin, Kevin   \n",
       "128047       15.5         2         made        Williams, Mo   \n",
       "128048       20.2         2         made       Brewer, Corey   \n",
       "128049        9.4         2         made     Pekovic, Nikola   \n",
       "128050        2.3         2         made        Williams, Mo   \n",
       "128051        2.6         2         made  Telfair, Sebastian   \n",
       "128052       18.9         2       missed  Telfair, Sebastian   \n",
       "128053       13.7         2       missed       Adams, Steven   \n",
       "128054       11.1         2       missed  Telfair, Sebastian   \n",
       "128055        5.1         2       missed     Jackson, Reggie   \n",
       "128056       15.5         2       missed   Jennings, Brandon   \n",
       "128057       22.1         3       missed      Augustin, D.J.   \n",
       "128058       18.2         2         made      Augustin, D.J.   \n",
       "128059       22.7         3       missed      Augustin, D.J.   \n",
       "128060       12.6         2       missed        Rondo, Rajon   \n",
       "128061        7.4         2       missed      Bradley, Avery   \n",
       "128062       14.5         2         made       Smart, Marcus   \n",
       "128063        8.9         2         made    Sullinger, Jared   \n",
       "128064        8.7         2       missed       Smart, Marcus   \n",
       "128065        0.6         2         made        Turner, Evan   \n",
       "128066       16.9         2         made    Thornton, Marcus   \n",
       "128067       18.3         2       missed      Bradley, Avery   \n",
       "128068        5.1         2         made      Bradley, Avery   \n",
       "\n",
       "       CLOSEST_DEFENDER_PLAYER_ID  CLOSE_DEF_DIST  FGM  PTS    player_name  \\\n",
       "0                          101187             1.3    1    2  brian roberts   \n",
       "1                          202711             6.1    0    0  brian roberts   \n",
       "2                          202711             0.9    0    0  brian roberts   \n",
       "3                          203900             3.4    0    0  brian roberts   \n",
       "4                          201152             1.1    0    0  brian roberts   \n",
       "5                          101114             2.6    0    0  brian roberts   \n",
       "6                          101127             6.1    0    0  brian roberts   \n",
       "7                          203486             2.1    1    2  brian roberts   \n",
       "8                          202721             7.3    0    0  brian roberts   \n",
       "9                          201961            19.8    0    0  brian roberts   \n",
       "10                         202391             4.7    0    0  brian roberts   \n",
       "11                         202391             1.8    1    2  brian roberts   \n",
       "12                         201941             5.4    1    2  brian roberts   \n",
       "13                           2584             4.4    0    0  brian roberts   \n",
       "14                         203935             5.3    0    0  brian roberts   \n",
       "15                         203923             5.6    1    3  brian roberts   \n",
       "16                         201973             5.4    0    0  brian roberts   \n",
       "17                         203109             5.1    0    0  brian roberts   \n",
       "18                         202738            11.1    1    3  brian roberts   \n",
       "19                         201166             3.5    0    0  brian roberts   \n",
       "20                           2550             4.0    1    2  brian roberts   \n",
       "21                         201959             5.4    1    2  brian roberts   \n",
       "22                           2550             3.7    0    0  brian roberts   \n",
       "23                         201959             5.1    1    3  brian roberts   \n",
       "24                         202710             3.6    0    0  brian roberts   \n",
       "25                         201149             6.0    1    3  brian roberts   \n",
       "26                         201166             0.7    1    2  brian roberts   \n",
       "27                           2734             3.5    0    0  brian roberts   \n",
       "28                         200826             4.5    0    0  brian roberts   \n",
       "29                         200826             3.5    0    0  brian roberts   \n",
       "...                           ...             ...  ...  ...            ...   \n",
       "128039                     203499             1.2    0    0   jarrett jack   \n",
       "128040                     201160             5.1    0    0   jarrett jack   \n",
       "128041                     203499             0.9    1    2   jarrett jack   \n",
       "128042                     204037             0.9    1    2   jarrett jack   \n",
       "128043                       2590             2.5    1    2   jarrett jack   \n",
       "128044                       2590             1.8    0    0   jarrett jack   \n",
       "128045                     203476             1.5    0    0   jarrett jack   \n",
       "128046                       2755             3.6    0    0   jarrett jack   \n",
       "128047                       2590             2.4    1    2   jarrett jack   \n",
       "128048                     201147            11.1    1    2   jarrett jack   \n",
       "128049                     201593             6.0    1    2   jarrett jack   \n",
       "128050                       2590             7.7    1    2   jarrett jack   \n",
       "128051                       2742             5.4    1    2   jarrett jack   \n",
       "128052                       2742             3.8    0    0   jarrett jack   \n",
       "128053                     203500             2.8    0    0   jarrett jack   \n",
       "128054                       2742             4.2    0    0   jarrett jack   \n",
       "128055                     202704             2.1    0    0   jarrett jack   \n",
       "128056                     201943             3.1    0    0   jarrett jack   \n",
       "128057                     201571             2.9    0    0   jarrett jack   \n",
       "128058                     201571             1.1    1    2   jarrett jack   \n",
       "128059                     201571             4.0    0    0   jarrett jack   \n",
       "128060                     200765             4.8    0    0   jarrett jack   \n",
       "128061                     202340             2.7    0    0   jarrett jack   \n",
       "128062                     203935             3.1    1    2   jarrett jack   \n",
       "128063                     203096             5.7    1    2   jarrett jack   \n",
       "128064                     203935             0.8    0    0   jarrett jack   \n",
       "128065                     202323             0.6    1    2   jarrett jack   \n",
       "128066                     201977             4.2    1    2   jarrett jack   \n",
       "128067                     202340             3.0    0    0   jarrett jack   \n",
       "128068                     202340             2.3    1    2   jarrett jack   \n",
       "\n",
       "       player_id  \n",
       "0         203148  \n",
       "1         203148  \n",
       "2         203148  \n",
       "3         203148  \n",
       "4         203148  \n",
       "5         203148  \n",
       "6         203148  \n",
       "7         203148  \n",
       "8         203148  \n",
       "9         203148  \n",
       "10        203148  \n",
       "11        203148  \n",
       "12        203148  \n",
       "13        203148  \n",
       "14        203148  \n",
       "15        203148  \n",
       "16        203148  \n",
       "17        203148  \n",
       "18        203148  \n",
       "19        203148  \n",
       "20        203148  \n",
       "21        203148  \n",
       "22        203148  \n",
       "23        203148  \n",
       "24        203148  \n",
       "25        203148  \n",
       "26        203148  \n",
       "27        203148  \n",
       "28        203148  \n",
       "29        203148  \n",
       "...          ...  \n",
       "128039    101127  \n",
       "128040    101127  \n",
       "128041    101127  \n",
       "128042    101127  \n",
       "128043    101127  \n",
       "128044    101127  \n",
       "128045    101127  \n",
       "128046    101127  \n",
       "128047    101127  \n",
       "128048    101127  \n",
       "128049    101127  \n",
       "128050    101127  \n",
       "128051    101127  \n",
       "128052    101127  \n",
       "128053    101127  \n",
       "128054    101127  \n",
       "128055    101127  \n",
       "128056    101127  \n",
       "128057    101127  \n",
       "128058    101127  \n",
       "128059    101127  \n",
       "128060    101127  \n",
       "128061    101127  \n",
       "128062    101127  \n",
       "128063    101127  \n",
       "128064    101127  \n",
       "128065    101127  \n",
       "128066    101127  \n",
       "128067    101127  \n",
       "128068    101127  \n",
       "\n",
       "[128069 rows x 21 columns]"
      ]
     },
     "execution_count": 3,
     "metadata": {},
     "output_type": "execute_result"
    }
   ],
   "source": [
    "nba"
   ]
  },
  {
   "cell_type": "code",
   "execution_count": 4,
   "metadata": {},
   "outputs": [],
   "source": [
    "number = LabelEncoder()"
   ]
  },
  {
   "cell_type": "markdown",
   "metadata": {},
   "source": [
    "Let's convert categorical text to numbers using LabelEncoder."
   ]
  },
  {
   "cell_type": "code",
   "execution_count": 5,
   "metadata": {},
   "outputs": [],
   "source": [
    "nba['W'] = number.fit_transform(nba['W'].astype('str'))\n",
    "nba['LOCATION'] = number.fit_transform(nba['LOCATION'].astype('str'))\n",
    "nba['SHOT_RESULT']=number.fit_transform(nba['SHOT_RESULT'].astype('str'))"
   ]
  },
  {
   "cell_type": "markdown",
   "metadata": {},
   "source": [
    "Check if the dataset contains any null values. \n",
    "\n",
    "If there are any missing values, let's fill them up later."
   ]
  },
  {
   "cell_type": "code",
   "execution_count": 6,
   "metadata": {},
   "outputs": [
    {
     "data": {
      "text/plain": [
       "GAME_ID                       False\n",
       "MATCHUP                       False\n",
       "LOCATION                      False\n",
       "W                             False\n",
       "FINAL_MARGIN                  False\n",
       "SHOT_NUMBER                   False\n",
       "PERIOD                        False\n",
       "GAME_CLOCK                    False\n",
       "SHOT_CLOCK                     True\n",
       "DRIBBLES                      False\n",
       "TOUCH_TIME                    False\n",
       "SHOT_DIST                     False\n",
       "PTS_TYPE                      False\n",
       "SHOT_RESULT                   False\n",
       "CLOSEST_DEFENDER              False\n",
       "CLOSEST_DEFENDER_PLAYER_ID    False\n",
       "CLOSE_DEF_DIST                False\n",
       "FGM                           False\n",
       "PTS                           False\n",
       "player_name                   False\n",
       "player_id                     False\n",
       "dtype: bool"
      ]
     },
     "execution_count": 6,
     "metadata": {},
     "output_type": "execute_result"
    }
   ],
   "source": [
    "nba.isnull().any()"
   ]
  },
  {
   "cell_type": "markdown",
   "metadata": {},
   "source": [
    "'SHOT_CLOCK' has missing values."
   ]
  },
  {
   "cell_type": "markdown",
   "metadata": {},
   "source": [
    "We are going to try and predict the type of shot to be played (either 2 or 3).\n",
    "\n",
    "There is a feature called 'W' and 'LOCATION'. \n",
    "\n",
    "'W' has two categories, W(win) = 1 and L(lose) = 0. \n",
    "\n",
    "'LOCATION' has two categories, A(away) = 0 and H(home) = 1.\n",
    "\n",
    "\n",
    "Lets's first check, in 'LOCATION', the number of 2 and 3 pointers played when at home(1) and when away(0)."
   ]
  },
  {
   "cell_type": "code",
   "execution_count": 7,
   "metadata": {},
   "outputs": [
    {
     "data": {
      "text/plain": [
       "2    47302\n",
       "3    16833\n",
       "Name: PTS_TYPE, dtype: int64"
      ]
     },
     "execution_count": 7,
     "metadata": {},
     "output_type": "execute_result"
    }
   ],
   "source": [
    "away = nba[nba['LOCATION']==0].PTS_TYPE.value_counts()\n",
    "away"
   ]
  },
  {
   "cell_type": "code",
   "execution_count": 8,
   "metadata": {},
   "outputs": [
    {
     "data": {
      "image/png": "[encoded data removed]",
      "text/plain": [
       "<Figure size 432x288 with 1 Axes>"
      ]
     },
     "metadata": {},
     "output_type": "display_data"
    }
   ],
   "source": [
    "plt.pie(away,labels=['2a','3a'],autopct='%1.1f%%',shadow=True)\n",
    "plt.axis('equal')\n",
    "plt.show()"
   ]
  },
  {
   "cell_type": "markdown",
   "metadata": {},
   "source": [
    "73.8% of the shots played while away are 2 pointers and 26.2% of the shots played are are 3 pointers."
   ]
  },
  {
   "cell_type": "code",
   "execution_count": 9,
   "metadata": {},
   "outputs": [
    {
     "data": {
      "text/plain": [
       "2    46871\n",
       "3    17063\n",
       "Name: PTS_TYPE, dtype: int64"
      ]
     },
     "execution_count": 9,
     "metadata": {},
     "output_type": "execute_result"
    }
   ],
   "source": [
    "home = nba[nba['LOCATION']==1].PTS_TYPE.value_counts()\n",
    "home"
   ]
  },
  {
   "cell_type": "code",
   "execution_count": 10,
   "metadata": {},
   "outputs": [
    {
     "data": {
      "image/png": "[encoded data removed]",
      "text/plain": [
       "<Figure size 432x288 with 1 Axes>"
      ]
     },
     "metadata": {},
     "output_type": "display_data"
    }
   ],
   "source": [
    "plt.pie(home,labels=['2h','3h'],autopct='%1.1f%%',shadow=True)\n",
    "plt.axis('equal')\n",
    "plt.show()"
   ]
  },
  {
   "cell_type": "markdown",
   "metadata": {},
   "source": [
    "73.3% of the shots played in home ground are 2 pointers and 26.7% of the shots played are 3 pointers."
   ]
  },
  {
   "cell_type": "markdown",
   "metadata": {},
   "source": [
    "From the two pie charts for 'LOCATION' we can infer that there isn't a lot of difference for the type of shot to be played.\n",
    "\n",
    "\n",
    "Hence, we can drop this feature from our dataset."
   ]
  },
  {
   "cell_type": "markdown",
   "metadata": {},
   "source": [
    "Now, let's try to see the number of shot types played when won or lost and compare the two.  "
   ]
  },
  {
   "cell_type": "code",
   "execution_count": 11,
   "metadata": {},
   "outputs": [
    {
     "data": {
      "text/plain": [
       "2    47107\n",
       "3    17488\n",
       "Name: PTS_TYPE, dtype: int64"
      ]
     },
     "execution_count": 11,
     "metadata": {},
     "output_type": "execute_result"
    }
   ],
   "source": [
    "win=nba[nba['W']==1].PTS_TYPE.value_counts()\n",
    "win"
   ]
  },
  {
   "cell_type": "code",
   "execution_count": 12,
   "metadata": {},
   "outputs": [
    {
     "data": {
      "image/png": "[encoded data removed]",
      "text/plain": [
       "<Figure size 432x288 with 1 Axes>"
      ]
     },
     "metadata": {},
     "output_type": "display_data"
    }
   ],
   "source": [
    "plt.pie(win,labels=['2','3'],autopct='%1.1f%%',shadow=True)\n",
    "plt.axis('equal')\n",
    "plt.show()"
   ]
  },
  {
   "cell_type": "markdown",
   "metadata": {},
   "source": [
    "72.9% of the shots played when won a match were 2 pointers and 27.1% are 3 pointers."
   ]
  },
  {
   "cell_type": "code",
   "execution_count": 13,
   "metadata": {},
   "outputs": [
    {
     "data": {
      "text/plain": [
       "2    47066\n",
       "3    16408\n",
       "Name: PTS_TYPE, dtype: int64"
      ]
     },
     "execution_count": 13,
     "metadata": {},
     "output_type": "execute_result"
    }
   ],
   "source": [
    "lose = nba[nba['W']==0].PTS_TYPE.value_counts()\n",
    "lose"
   ]
  },
  {
   "cell_type": "code",
   "execution_count": 14,
   "metadata": {},
   "outputs": [
    {
     "data": {
      "image/png": "[encoded data removed]",
      "text/plain": [
       "<Figure size 432x288 with 1 Axes>"
      ]
     },
     "metadata": {},
     "output_type": "display_data"
    }
   ],
   "source": [
    "plt.pie(lose,labels=['2','3'],autopct='%1.1f%%',shadow=True)\n",
    "plt.axis('equal')\n",
    "plt.show()"
   ]
  },
  {
   "cell_type": "markdown",
   "metadata": {},
   "source": [
    "74.2% of the shots when lost a match were 2 pointers and 26.8% were 3 pointers."
   ]
  },
  {
   "cell_type": "markdown",
   "metadata": {},
   "source": [
    "From the two pie charts for 'W' we can infer that there isn't a lot of difference for the type of shot to be played.\n",
    "\n",
    "Hence, we can drop this feature."
   ]
  },
  {
   "cell_type": "markdown",
   "metadata": {},
   "source": [
    "\n",
    "Let's check the effect of 'FINAL_MARGIN' on our target, 'PTS_TYPE' using lineplot from seaborn."
   ]
  },
  {
   "cell_type": "code",
   "execution_count": 15,
   "metadata": {},
   "outputs": [
    {
     "data": {
      "text/plain": [
       "SHOT_NUMBER                   0.003054\n",
       "GAME_ID                       0.003418\n",
       "LOCATION                      0.005012\n",
       "CLOSEST_DEFENDER_PLAYER_ID    0.006266\n",
       "player_id                     0.010486\n",
       "W                             0.013865\n",
       "FINAL_MARGIN                  0.024134\n",
       "PTS                           0.030361\n",
       "SHOT_CLOCK                    0.032809\n",
       "PERIOD                        0.048915\n",
       "SHOT_RESULT                   0.121293\n",
       "FGM                           0.121293\n",
       "DRIBBLES                      0.169016\n",
       "TOUCH_TIME                    0.181007\n",
       "CLOSE_DEF_DIST                0.414198\n",
       "SHOT_DIST                     0.740933\n",
       "PTS_TYPE                      1.000000\n",
       "Name: PTS_TYPE, dtype: float64"
      ]
     },
     "execution_count": 15,
     "metadata": {},
     "output_type": "execute_result"
    }
   ],
   "source": [
    "correl = nba.corr('pearson')\n",
    "abs(correl['PTS_TYPE']).sort_values()"
   ]
  },
  {
   "cell_type": "code",
   "execution_count": 16,
   "metadata": {},
   "outputs": [
    {
     "name": "stderr",
     "output_type": "stream",
     "text": [
      "C:\\Users\\BATCOMP\\Anaconda3\\lib\\site-packages\\scipy\\stats\\stats.py:1713: FutureWarning: Using a non-tuple sequence for multidimensional indexing is deprecated; use `arr[tuple(seq)]` instead of `arr[seq]`. In the future this will be interpreted as an array index, `arr[np.array(seq)]`, which will result either in an error or a different result.\n",
      "  return np.add.reduce(sorted[indexer] * weights, axis=axis) / sumval\n"
     ]
    },
    {
     "data": {
      "image/png": "[encoded data removed]",
      "text/plain": [
       "<Figure size 432x288 with 1 Axes>"
      ]
     },
     "metadata": {},
     "output_type": "display_data"
    }
   ],
   "source": [
    "sns.set(style='darkgrid')\n",
    "ax=sns.lineplot(x='FINAL_MARGIN',y='PTS_TYPE',data=nba)"
   ]
  },
  {
   "cell_type": "markdown",
   "metadata": {},
   "source": [
    "As the final margin increases, the type of shot played slowly moves from a 2 pointer to a 3 pointer, which will effect the target."
   ]
  },
  {
   "cell_type": "markdown",
   "metadata": {},
   "source": [
    "Let's check the effect of shot number on the target using seaborn's line plot."
   ]
  },
  {
   "cell_type": "code",
   "execution_count": 17,
   "metadata": {},
   "outputs": [
    {
     "name": "stderr",
     "output_type": "stream",
     "text": [
      "C:\\Users\\BATCOMP\\Anaconda3\\lib\\site-packages\\scipy\\stats\\stats.py:1713: FutureWarning: Using a non-tuple sequence for multidimensional indexing is deprecated; use `arr[tuple(seq)]` instead of `arr[seq]`. In the future this will be interpreted as an array index, `arr[np.array(seq)]`, which will result either in an error or a different result.\n",
      "  return np.add.reduce(sorted[indexer] * weights, axis=axis) / sumval\n"
     ]
    },
    {
     "data": {
      "image/png": "[encoded data removed]",
      "text/plain": [
       "<Figure size 432x288 with 1 Axes>"
      ]
     },
     "metadata": {},
     "output_type": "display_data"
    }
   ],
   "source": [
    "sns.set(style='darkgrid')\n",
    "ax=sns.lineplot(x='SHOT_NUMBER',y='PTS_TYPE',data=nba)"
   ]
  },
  {
   "cell_type": "markdown",
   "metadata": {},
   "source": [
    "As the shot number increases, type of shot played moves from 2 pointers to 3 pointers, which will effect the target"
   ]
  },
  {
   "cell_type": "markdown",
   "metadata": {},
   "source": [
    "Let's check the effect of game period on the target."
   ]
  },
  {
   "cell_type": "code",
   "execution_count": 18,
   "metadata": {},
   "outputs": [
    {
     "name": "stderr",
     "output_type": "stream",
     "text": [
      "C:\\Users\\BATCOMP\\Anaconda3\\lib\\site-packages\\scipy\\stats\\stats.py:1713: FutureWarning: Using a non-tuple sequence for multidimensional indexing is deprecated; use `arr[tuple(seq)]` instead of `arr[seq]`. In the future this will be interpreted as an array index, `arr[np.array(seq)]`, which will result either in an error or a different result.\n",
      "  return np.add.reduce(sorted[indexer] * weights, axis=axis) / sumval\n"
     ]
    },
    {
     "data": {
      "image/png": "[encoded data removed]",
      "text/plain": [
       "<Figure size 432x288 with 1 Axes>"
      ]
     },
     "metadata": {},
     "output_type": "display_data"
    }
   ],
   "source": [
    "sns.set(style='darkgrid')\n",
    "ax=sns.lineplot(x='PERIOD',y='PTS_TYPE',data=nba)"
   ]
  },
  {
   "cell_type": "markdown",
   "metadata": {},
   "source": [
    "Looks like as period increases, the type of shot played slowly moves from 2 pointers to 3."
   ]
  },
  {
   "cell_type": "markdown",
   "metadata": {},
   "source": [
    "Let's check the effect of number of dribbles on the type of shot played."
   ]
  },
  {
   "cell_type": "code",
   "execution_count": 19,
   "metadata": {},
   "outputs": [
    {
     "name": "stderr",
     "output_type": "stream",
     "text": [
      "C:\\Users\\BATCOMP\\Anaconda3\\lib\\site-packages\\scipy\\stats\\stats.py:1713: FutureWarning: Using a non-tuple sequence for multidimensional indexing is deprecated; use `arr[tuple(seq)]` instead of `arr[seq]`. In the future this will be interpreted as an array index, `arr[np.array(seq)]`, which will result either in an error or a different result.\n",
      "  return np.add.reduce(sorted[indexer] * weights, axis=axis) / sumval\n"
     ]
    },
    {
     "data": {
      "text/plain": [
       "<matplotlib.axes._subplots.AxesSubplot at 0x25f805c4a58>"
      ]
     },
     "execution_count": 19,
     "metadata": {},
     "output_type": "execute_result"
    },
    {
     "data": {
      "image/png": "[encoded data removed]",
      "text/plain": [
       "<Figure size 432x288 with 1 Axes>"
      ]
     },
     "metadata": {},
     "output_type": "display_data"
    }
   ],
   "source": [
    "sns.set(style='darkgrid')\n",
    "sns.lineplot(x='DRIBBLES',y='PTS_TYPE',data=nba)"
   ]
  },
  {
   "cell_type": "markdown",
   "metadata": {},
   "source": [
    "Lower number of dribbles have higher chances of shooting a 3 pointer, whereas higher number of dribbles have higher chances of shooting a 2 pointer."
   ]
  },
  {
   "cell_type": "markdown",
   "metadata": {},
   "source": [
    "Let's check the effect of ball touch time on the type of shot played."
   ]
  },
  {
   "cell_type": "code",
   "execution_count": 20,
   "metadata": {},
   "outputs": [
    {
     "name": "stderr",
     "output_type": "stream",
     "text": [
      "C:\\Users\\BATCOMP\\Anaconda3\\lib\\site-packages\\scipy\\stats\\stats.py:1713: FutureWarning: Using a non-tuple sequence for multidimensional indexing is deprecated; use `arr[tuple(seq)]` instead of `arr[seq]`. In the future this will be interpreted as an array index, `arr[np.array(seq)]`, which will result either in an error or a different result.\n",
      "  return np.add.reduce(sorted[indexer] * weights, axis=axis) / sumval\n"
     ]
    },
    {
     "data": {
      "image/png": "[encoded data removed]",
      "text/plain": [
       "<Figure size 432x288 with 1 Axes>"
      ]
     },
     "metadata": {},
     "output_type": "display_data"
    }
   ],
   "source": [
    "sns.set(style='darkgrid')\n",
    "ax=sns.lineplot(x='TOUCH_TIME',y='PTS_TYPE',data=nba)"
   ]
  },
  {
   "cell_type": "markdown",
   "metadata": {},
   "source": [
    "Lower touch time have more chances of being a 3 pointer which increases again for higher touch time."
   ]
  },
  {
   "cell_type": "markdown",
   "metadata": {},
   "source": [
    "Let's check the effect of shot distance on the type of shot played."
   ]
  },
  {
   "cell_type": "code",
   "execution_count": 21,
   "metadata": {},
   "outputs": [
    {
     "name": "stderr",
     "output_type": "stream",
     "text": [
      "C:\\Users\\BATCOMP\\Anaconda3\\lib\\site-packages\\scipy\\stats\\stats.py:1713: FutureWarning: Using a non-tuple sequence for multidimensional indexing is deprecated; use `arr[tuple(seq)]` instead of `arr[seq]`. In the future this will be interpreted as an array index, `arr[np.array(seq)]`, which will result either in an error or a different result.\n",
      "  return np.add.reduce(sorted[indexer] * weights, axis=axis) / sumval\n"
     ]
    },
    {
     "data": {
      "image/png": "[encoded data removed]",
      "text/plain": [
       "<Figure size 432x288 with 1 Axes>"
      ]
     },
     "metadata": {},
     "output_type": "display_data"
    }
   ],
   "source": [
    "sns.set(style='darkgrid')\n",
    "ax=sns.lineplot(x='SHOT_DIST',y='PTS_TYPE',data=nba)"
   ]
  },
  {
   "cell_type": "markdown",
   "metadata": {},
   "source": [
    "Shot distance and the type of shot played have a direct correlation, i.e if the shot distance is known already there is no need to predict the type of shot played. If the shhot distance is anywhere above 22 or 23 feet it is definitely going to be a 3 pointer and if it is below 22 or 23 feet, it is definitely going to be a 2 pointer.\n",
    "\n",
    "Hence, it is best to drop this feature."
   ]
  },
  {
   "cell_type": "markdown",
   "metadata": {},
   "source": [
    "Let's check the effect of the shot result on the target."
   ]
  },
  {
   "cell_type": "code",
   "execution_count": 22,
   "metadata": {},
   "outputs": [
    {
     "name": "stderr",
     "output_type": "stream",
     "text": [
      "C:\\Users\\BATCOMP\\Anaconda3\\lib\\site-packages\\scipy\\stats\\stats.py:1713: FutureWarning: Using a non-tuple sequence for multidimensional indexing is deprecated; use `arr[tuple(seq)]` instead of `arr[seq]`. In the future this will be interpreted as an array index, `arr[np.array(seq)]`, which will result either in an error or a different result.\n",
      "  return np.add.reduce(sorted[indexer] * weights, axis=axis) / sumval\n"
     ]
    },
    {
     "data": {
      "text/plain": [
       "<matplotlib.axes._subplots.AxesSubplot at 0x25f80693c50>"
      ]
     },
     "execution_count": 22,
     "metadata": {},
     "output_type": "execute_result"
    },
    {
     "data": {
      "image/png": "[encoded data removed]",
      "text/plain": [
       "<Figure size 432x288 with 1 Axes>"
      ]
     },
     "metadata": {},
     "output_type": "display_data"
    }
   ],
   "source": [
    "sns.set(style='darkgrid')\n",
    "sns.lineplot(x='SHOT_RESULT',y='PTS_TYPE',data=nba)"
   ]
  },
  {
   "cell_type": "markdown",
   "metadata": {},
   "source": [
    "It is a linear relationship.\n",
    "\n",
    "As the chances of not making the basket increases, the chances of the shot being a 3 pointer increases."
   ]
  },
  {
   "cell_type": "markdown",
   "metadata": {},
   "source": [
    "Let's check what effect the distance of the closest defender would have on the target.  "
   ]
  },
  {
   "cell_type": "code",
   "execution_count": 23,
   "metadata": {},
   "outputs": [
    {
     "name": "stderr",
     "output_type": "stream",
     "text": [
      "C:\\Users\\BATCOMP\\Anaconda3\\lib\\site-packages\\scipy\\stats\\stats.py:1713: FutureWarning: Using a non-tuple sequence for multidimensional indexing is deprecated; use `arr[tuple(seq)]` instead of `arr[seq]`. In the future this will be interpreted as an array index, `arr[np.array(seq)]`, which will result either in an error or a different result.\n",
      "  return np.add.reduce(sorted[indexer] * weights, axis=axis) / sumval\n"
     ]
    },
    {
     "data": {
      "text/plain": [
       "<matplotlib.axes._subplots.AxesSubplot at 0x25f80677be0>"
      ]
     },
     "execution_count": 23,
     "metadata": {},
     "output_type": "execute_result"
    },
    {
     "data": {
      "image/png": "[encoded data removed]",
      "text/plain": [
       "<Figure size 432x288 with 1 Axes>"
      ]
     },
     "metadata": {},
     "output_type": "display_data"
    }
   ],
   "source": [
    "sns.set(style='darkgrid')\n",
    "sns.lineplot(x='CLOSE_DEF_DIST', y='PTS_TYPE',data=nba)"
   ]
  },
  {
   "cell_type": "markdown",
   "metadata": {},
   "source": [
    "Closer the defender, higher chances the shot being a 3 pointer."
   ]
  },
  {
   "cell_type": "markdown",
   "metadata": {},
   "source": [
    "The feature 'GAME_CLOCK' is in terms of minutes and seconds. We will not be able to do any mathematical functions on it.\n",
    "\n",
    "So let's try to convert it all to seconds."
   ]
  },
  {
   "cell_type": "code",
   "execution_count": 24,
   "metadata": {},
   "outputs": [],
   "source": [
    "game_clock=np.array(nba['GAME_CLOCK'])"
   ]
  },
  {
   "cell_type": "code",
   "execution_count": 25,
   "metadata": {},
   "outputs": [
    {
     "data": {
      "text/plain": [
       "array(['1:09', '0:14', '0:00', ..., '11:10', '2:37', '0:12'], dtype=object)"
      ]
     },
     "execution_count": 25,
     "metadata": {},
     "output_type": "execute_result"
    }
   ],
   "source": [
    "game_clock"
   ]
  },
  {
   "cell_type": "markdown",
   "metadata": {},
   "source": [
    "Create a new list and append all the 'GAME_CLOCK' values, in terms of seconds, into this new list."
   ]
  },
  {
   "cell_type": "code",
   "execution_count": 26,
   "metadata": {},
   "outputs": [],
   "source": [
    "list=[]\n",
    "for i in game_clock:\n",
    "    x=i.split(':')\n",
    "    new=int(x[0])*60 + int(x[1])\n",
    "    list.append(new)"
   ]
  },
  {
   "cell_type": "markdown",
   "metadata": {},
   "source": [
    "Create a new column and add that list into the column."
   ]
  },
  {
   "cell_type": "code",
   "execution_count": 27,
   "metadata": {},
   "outputs": [],
   "source": [
    "nba['GAMECLOCK']=list"
   ]
  },
  {
   "cell_type": "markdown",
   "metadata": {},
   "source": [
    "Let's check what effect this new feature, 'GAMECLOCK which has all 'GAME_CLOCK' values in seconds, has on the target."
   ]
  },
  {
   "cell_type": "code",
   "execution_count": 28,
   "metadata": {},
   "outputs": [
    {
     "name": "stderr",
     "output_type": "stream",
     "text": [
      "C:\\Users\\BATCOMP\\Anaconda3\\lib\\site-packages\\scipy\\stats\\stats.py:1713: FutureWarning: Using a non-tuple sequence for multidimensional indexing is deprecated; use `arr[tuple(seq)]` instead of `arr[seq]`. In the future this will be interpreted as an array index, `arr[np.array(seq)]`, which will result either in an error or a different result.\n",
      "  return np.add.reduce(sorted[indexer] * weights, axis=axis) / sumval\n"
     ]
    },
    {
     "data": {
      "image/png": "[encoded data removed]",
      "text/plain": [
       "<Figure size 432x288 with 1 Axes>"
      ]
     },
     "metadata": {},
     "output_type": "display_data"
    }
   ],
   "source": [
    "sns.set(style='darkgrid')\n",
    "ax=sns.lineplot(x='GAMECLOCK',y='PTS_TYPE',data=nba)"
   ]
  },
  {
   "cell_type": "markdown",
   "metadata": {},
   "source": [
    "Looks like the chances of type of shot played increases to 2 pointers from 3 pointers as time increases."
   ]
  },
  {
   "cell_type": "markdown",
   "metadata": {},
   "source": [
    "Let's drop the unwanted features as seen from above."
   ]
  },
  {
   "cell_type": "markdown",
   "metadata": {},
   "source": [
    "We'll drop 'FGM' beacause it is a result of shot result. 'SHOT_RESULT' and 'FGM' are conveying the same message. "
   ]
  },
  {
   "cell_type": "code",
   "execution_count": 29,
   "metadata": {},
   "outputs": [],
   "source": [
    "data=nba.drop(['LOCATION', 'W','GAME_ID','MATCHUP','GAME_CLOCK','CLOSEST_DEFENDER','FGM','player_name', 'SHOT_DIST'],axis=1)"
   ]
  },
  {
   "cell_type": "code",
   "execution_count": 30,
   "metadata": {},
   "outputs": [
    {
     "data": {
      "text/html": [
       "<div>\n",
       "<style scoped>\n",
       "    .dataframe tbody tr th:only-of-type {\n",
       "        vertical-align: middle;\n",
       "    }\n",
       "\n",
       "    .dataframe tbody tr th {\n",
       "        vertical-align: top;\n",
       "    }\n",
       "\n",
       "    .dataframe thead th {\n",
       "        text-align: right;\n",
       "    }\n",
       "</style>\n",
       "<table border=\"1\" class=\"dataframe\">\n",
       "  <thead>\n",
       "    <tr style=\"text-align: right;\">\n",
       "      <th></th>\n",
       "      <th>FINAL_MARGIN</th>\n",
       "      <th>SHOT_NUMBER</th>\n",
       "      <th>PERIOD</th>\n",
       "      <th>SHOT_CLOCK</th>\n",
       "      <th>DRIBBLES</th>\n",
       "      <th>TOUCH_TIME</th>\n",
       "      <th>PTS_TYPE</th>\n",
       "      <th>SHOT_RESULT</th>\n",
       "      <th>CLOSEST_DEFENDER_PLAYER_ID</th>\n",
       "      <th>CLOSE_DEF_DIST</th>\n",
       "      <th>PTS</th>\n",
       "      <th>player_id</th>\n",
       "      <th>GAMECLOCK</th>\n",
       "    </tr>\n",
       "  </thead>\n",
       "  <tbody>\n",
       "    <tr>\n",
       "      <th>0</th>\n",
       "      <td>24</td>\n",
       "      <td>1</td>\n",
       "      <td>1</td>\n",
       "      <td>10.8</td>\n",
       "      <td>2</td>\n",
       "      <td>1.9</td>\n",
       "      <td>2</td>\n",
       "      <td>0</td>\n",
       "      <td>101187</td>\n",
       "      <td>1.3</td>\n",
       "      <td>2</td>\n",
       "      <td>203148</td>\n",
       "      <td>69</td>\n",
       "    </tr>\n",
       "    <tr>\n",
       "      <th>1</th>\n",
       "      <td>24</td>\n",
       "      <td>2</td>\n",
       "      <td>1</td>\n",
       "      <td>3.4</td>\n",
       "      <td>0</td>\n",
       "      <td>0.8</td>\n",
       "      <td>3</td>\n",
       "      <td>1</td>\n",
       "      <td>202711</td>\n",
       "      <td>6.1</td>\n",
       "      <td>0</td>\n",
       "      <td>203148</td>\n",
       "      <td>14</td>\n",
       "    </tr>\n",
       "    <tr>\n",
       "      <th>2</th>\n",
       "      <td>24</td>\n",
       "      <td>3</td>\n",
       "      <td>1</td>\n",
       "      <td>NaN</td>\n",
       "      <td>3</td>\n",
       "      <td>2.7</td>\n",
       "      <td>2</td>\n",
       "      <td>1</td>\n",
       "      <td>202711</td>\n",
       "      <td>0.9</td>\n",
       "      <td>0</td>\n",
       "      <td>203148</td>\n",
       "      <td>0</td>\n",
       "    </tr>\n",
       "    <tr>\n",
       "      <th>3</th>\n",
       "      <td>24</td>\n",
       "      <td>4</td>\n",
       "      <td>2</td>\n",
       "      <td>10.3</td>\n",
       "      <td>2</td>\n",
       "      <td>1.9</td>\n",
       "      <td>2</td>\n",
       "      <td>1</td>\n",
       "      <td>203900</td>\n",
       "      <td>3.4</td>\n",
       "      <td>0</td>\n",
       "      <td>203148</td>\n",
       "      <td>707</td>\n",
       "    </tr>\n",
       "    <tr>\n",
       "      <th>4</th>\n",
       "      <td>24</td>\n",
       "      <td>5</td>\n",
       "      <td>2</td>\n",
       "      <td>10.9</td>\n",
       "      <td>2</td>\n",
       "      <td>2.7</td>\n",
       "      <td>2</td>\n",
       "      <td>1</td>\n",
       "      <td>201152</td>\n",
       "      <td>1.1</td>\n",
       "      <td>0</td>\n",
       "      <td>203148</td>\n",
       "      <td>634</td>\n",
       "    </tr>\n",
       "  </tbody>\n",
       "</table>\n",
       "</div>"
      ],
      "text/plain": [
       "   FINAL_MARGIN  SHOT_NUMBER  PERIOD  SHOT_CLOCK  DRIBBLES  TOUCH_TIME  \\\n",
       "0            24            1       1        10.8         2         1.9   \n",
       "1            24            2       1         3.4         0         0.8   \n",
       "2            24            3       1         NaN         3         2.7   \n",
       "3            24            4       2        10.3         2         1.9   \n",
       "4            24            5       2        10.9         2         2.7   \n",
       "\n",
       "   PTS_TYPE  SHOT_RESULT  CLOSEST_DEFENDER_PLAYER_ID  CLOSE_DEF_DIST  PTS  \\\n",
       "0         2            0                      101187             1.3    2   \n",
       "1         3            1                      202711             6.1    0   \n",
       "2         2            1                      202711             0.9    0   \n",
       "3         2            1                      203900             3.4    0   \n",
       "4         2            1                      201152             1.1    0   \n",
       "\n",
       "   player_id  GAMECLOCK  \n",
       "0     203148         69  \n",
       "1     203148         14  \n",
       "2     203148          0  \n",
       "3     203148        707  \n",
       "4     203148        634  "
      ]
     },
     "execution_count": 30,
     "metadata": {},
     "output_type": "execute_result"
    }
   ],
   "source": [
    "data.head()"
   ]
  },
  {
   "cell_type": "markdown",
   "metadata": {},
   "source": [
    "Let's normalize 'data' since normalizing will help reduce the computation time."
   ]
  },
  {
   "cell_type": "code",
   "execution_count": 31,
   "metadata": {},
   "outputs": [],
   "source": [
    "data=(data-data.min())/(data.max()-data.min())"
   ]
  },
  {
   "cell_type": "code",
   "execution_count": 32,
   "metadata": {},
   "outputs": [
    {
     "data": {
      "text/html": [
       "<div>\n",
       "<style scoped>\n",
       "    .dataframe tbody tr th:only-of-type {\n",
       "        vertical-align: middle;\n",
       "    }\n",
       "\n",
       "    .dataframe tbody tr th {\n",
       "        vertical-align: top;\n",
       "    }\n",
       "\n",
       "    .dataframe thead th {\n",
       "        text-align: right;\n",
       "    }\n",
       "</style>\n",
       "<table border=\"1\" class=\"dataframe\">\n",
       "  <thead>\n",
       "    <tr style=\"text-align: right;\">\n",
       "      <th></th>\n",
       "      <th>FINAL_MARGIN</th>\n",
       "      <th>SHOT_NUMBER</th>\n",
       "      <th>PERIOD</th>\n",
       "      <th>SHOT_CLOCK</th>\n",
       "      <th>DRIBBLES</th>\n",
       "      <th>TOUCH_TIME</th>\n",
       "      <th>PTS_TYPE</th>\n",
       "      <th>SHOT_RESULT</th>\n",
       "      <th>CLOSEST_DEFENDER_PLAYER_ID</th>\n",
       "      <th>CLOSE_DEF_DIST</th>\n",
       "      <th>PTS</th>\n",
       "      <th>player_id</th>\n",
       "      <th>GAMECLOCK</th>\n",
       "    </tr>\n",
       "  </thead>\n",
       "  <tbody>\n",
       "    <tr>\n",
       "      <th>0</th>\n",
       "      <td>0.726415</td>\n",
       "      <td>0.000000</td>\n",
       "      <td>0.000000</td>\n",
       "      <td>0.450000</td>\n",
       "      <td>0.06250</td>\n",
       "      <td>0.877984</td>\n",
       "      <td>0.0</td>\n",
       "      <td>0.0</td>\n",
       "      <td>0.189827</td>\n",
       "      <td>0.024436</td>\n",
       "      <td>0.666667</td>\n",
       "      <td>0.995515</td>\n",
       "      <td>0.095833</td>\n",
       "    </tr>\n",
       "    <tr>\n",
       "      <th>1</th>\n",
       "      <td>0.726415</td>\n",
       "      <td>0.027027</td>\n",
       "      <td>0.000000</td>\n",
       "      <td>0.141667</td>\n",
       "      <td>0.00000</td>\n",
       "      <td>0.872149</td>\n",
       "      <td>1.0</td>\n",
       "      <td>1.0</td>\n",
       "      <td>0.381628</td>\n",
       "      <td>0.114662</td>\n",
       "      <td>0.000000</td>\n",
       "      <td>0.995515</td>\n",
       "      <td>0.019444</td>\n",
       "    </tr>\n",
       "    <tr>\n",
       "      <th>2</th>\n",
       "      <td>0.726415</td>\n",
       "      <td>0.054054</td>\n",
       "      <td>0.000000</td>\n",
       "      <td>NaN</td>\n",
       "      <td>0.09375</td>\n",
       "      <td>0.882228</td>\n",
       "      <td>0.0</td>\n",
       "      <td>1.0</td>\n",
       "      <td>0.381628</td>\n",
       "      <td>0.016917</td>\n",
       "      <td>0.000000</td>\n",
       "      <td>0.995515</td>\n",
       "      <td>0.000000</td>\n",
       "    </tr>\n",
       "    <tr>\n",
       "      <th>3</th>\n",
       "      <td>0.726415</td>\n",
       "      <td>0.081081</td>\n",
       "      <td>0.166667</td>\n",
       "      <td>0.429167</td>\n",
       "      <td>0.06250</td>\n",
       "      <td>0.877984</td>\n",
       "      <td>0.0</td>\n",
       "      <td>1.0</td>\n",
       "      <td>0.383874</td>\n",
       "      <td>0.063910</td>\n",
       "      <td>0.000000</td>\n",
       "      <td>0.995515</td>\n",
       "      <td>0.981944</td>\n",
       "    </tr>\n",
       "    <tr>\n",
       "      <th>4</th>\n",
       "      <td>0.726415</td>\n",
       "      <td>0.108108</td>\n",
       "      <td>0.166667</td>\n",
       "      <td>0.454167</td>\n",
       "      <td>0.06250</td>\n",
       "      <td>0.882228</td>\n",
       "      <td>0.0</td>\n",
       "      <td>1.0</td>\n",
       "      <td>0.378683</td>\n",
       "      <td>0.020677</td>\n",
       "      <td>0.000000</td>\n",
       "      <td>0.995515</td>\n",
       "      <td>0.880556</td>\n",
       "    </tr>\n",
       "  </tbody>\n",
       "</table>\n",
       "</div>"
      ],
      "text/plain": [
       "   FINAL_MARGIN  SHOT_NUMBER    PERIOD  SHOT_CLOCK  DRIBBLES  TOUCH_TIME  \\\n",
       "0      0.726415     0.000000  0.000000    0.450000   0.06250    0.877984   \n",
       "1      0.726415     0.027027  0.000000    0.141667   0.00000    0.872149   \n",
       "2      0.726415     0.054054  0.000000         NaN   0.09375    0.882228   \n",
       "3      0.726415     0.081081  0.166667    0.429167   0.06250    0.877984   \n",
       "4      0.726415     0.108108  0.166667    0.454167   0.06250    0.882228   \n",
       "\n",
       "   PTS_TYPE  SHOT_RESULT  CLOSEST_DEFENDER_PLAYER_ID  CLOSE_DEF_DIST  \\\n",
       "0       0.0          0.0                    0.189827        0.024436   \n",
       "1       1.0          1.0                    0.381628        0.114662   \n",
       "2       0.0          1.0                    0.381628        0.016917   \n",
       "3       0.0          1.0                    0.383874        0.063910   \n",
       "4       0.0          1.0                    0.378683        0.020677   \n",
       "\n",
       "        PTS  player_id  GAMECLOCK  \n",
       "0  0.666667   0.995515   0.095833  \n",
       "1  0.000000   0.995515   0.019444  \n",
       "2  0.000000   0.995515   0.000000  \n",
       "3  0.000000   0.995515   0.981944  \n",
       "4  0.000000   0.995515   0.880556  "
      ]
     },
     "execution_count": 32,
     "metadata": {},
     "output_type": "execute_result"
    }
   ],
   "source": [
    "data.head()"
   ]
  },
  {
   "cell_type": "markdown",
   "metadata": {},
   "source": [
    "Let's check how player id effects the target."
   ]
  },
  {
   "cell_type": "code",
   "execution_count": 33,
   "metadata": {},
   "outputs": [
    {
     "name": "stderr",
     "output_type": "stream",
     "text": [
      "C:\\Users\\BATCOMP\\Anaconda3\\lib\\site-packages\\scipy\\stats\\stats.py:1713: FutureWarning: Using a non-tuple sequence for multidimensional indexing is deprecated; use `arr[tuple(seq)]` instead of `arr[seq]`. In the future this will be interpreted as an array index, `arr[np.array(seq)]`, which will result either in an error or a different result.\n",
      "  return np.add.reduce(sorted[indexer] * weights, axis=axis) / sumval\n"
     ]
    },
    {
     "data": {
      "text/plain": [
       "<matplotlib.axes._subplots.AxesSubplot at 0x25f81589e80>"
      ]
     },
     "execution_count": 33,
     "metadata": {},
     "output_type": "execute_result"
    },
    {
     "data": {
      "image/png": "[encoded data removed]",
      "text/plain": [
       "<Figure size 432x288 with 1 Axes>"
      ]
     },
     "metadata": {},
     "output_type": "display_data"
    }
   ],
   "source": [
    "sns.set(style='darkgrid')\n",
    "sns.lineplot(x='player_id',y='PTS_TYPE',data=data)"
   ]
  },
  {
   "cell_type": "markdown",
   "metadata": {},
   "source": [
    "For the same value of player id there are two types of pts type. Hence, it is best to drop this feature."
   ]
  },
  {
   "cell_type": "markdown",
   "metadata": {},
   "source": [
    "Let's check how defender id effects the target."
   ]
  },
  {
   "cell_type": "code",
   "execution_count": 34,
   "metadata": {},
   "outputs": [
    {
     "name": "stderr",
     "output_type": "stream",
     "text": [
      "C:\\Users\\BATCOMP\\Anaconda3\\lib\\site-packages\\scipy\\stats\\stats.py:1713: FutureWarning: Using a non-tuple sequence for multidimensional indexing is deprecated; use `arr[tuple(seq)]` instead of `arr[seq]`. In the future this will be interpreted as an array index, `arr[np.array(seq)]`, which will result either in an error or a different result.\n",
      "  return np.add.reduce(sorted[indexer] * weights, axis=axis) / sumval\n"
     ]
    },
    {
     "data": {
      "text/plain": [
       "<matplotlib.axes._subplots.AxesSubplot at 0x25f814a91d0>"
      ]
     },
     "execution_count": 34,
     "metadata": {},
     "output_type": "execute_result"
    },
    {
     "data": {
      "image/png": "[encoded data removed]",
      "text/plain": [
       "<Figure size 432x288 with 1 Axes>"
      ]
     },
     "metadata": {},
     "output_type": "display_data"
    }
   ],
   "source": [
    "sns.set(style='darkgrid')\n",
    "sns.lineplot(x='CLOSEST_DEFENDER_PLAYER_ID',y='PTS_TYPE',data=data)"
   ]
  },
  {
   "cell_type": "markdown",
   "metadata": {},
   "source": [
    "Looks like some defenders have both types of pts type, i.e some defenders have 2 pointers and 3 pointers as a result. Hence, it's best to drop this feaure."
   ]
  },
  {
   "cell_type": "code",
   "execution_count": 35,
   "metadata": {},
   "outputs": [
    {
     "data": {
      "text/html": [
       "<div>\n",
       "<style scoped>\n",
       "    .dataframe tbody tr th:only-of-type {\n",
       "        vertical-align: middle;\n",
       "    }\n",
       "\n",
       "    .dataframe tbody tr th {\n",
       "        vertical-align: top;\n",
       "    }\n",
       "\n",
       "    .dataframe thead th {\n",
       "        text-align: right;\n",
       "    }\n",
       "</style>\n",
       "<table border=\"1\" class=\"dataframe\">\n",
       "  <thead>\n",
       "    <tr style=\"text-align: right;\">\n",
       "      <th></th>\n",
       "      <th>FINAL_MARGIN</th>\n",
       "      <th>SHOT_NUMBER</th>\n",
       "      <th>PERIOD</th>\n",
       "      <th>SHOT_CLOCK</th>\n",
       "      <th>DRIBBLES</th>\n",
       "      <th>TOUCH_TIME</th>\n",
       "      <th>PTS_TYPE</th>\n",
       "      <th>SHOT_RESULT</th>\n",
       "      <th>CLOSEST_DEFENDER_PLAYER_ID</th>\n",
       "      <th>CLOSE_DEF_DIST</th>\n",
       "      <th>PTS</th>\n",
       "      <th>player_id</th>\n",
       "      <th>GAMECLOCK</th>\n",
       "    </tr>\n",
       "  </thead>\n",
       "  <tbody>\n",
       "    <tr>\n",
       "      <th>0</th>\n",
       "      <td>0.726415</td>\n",
       "      <td>0.000000</td>\n",
       "      <td>0.000000</td>\n",
       "      <td>0.450000</td>\n",
       "      <td>0.06250</td>\n",
       "      <td>0.877984</td>\n",
       "      <td>0.0</td>\n",
       "      <td>0.0</td>\n",
       "      <td>0.189827</td>\n",
       "      <td>0.024436</td>\n",
       "      <td>0.666667</td>\n",
       "      <td>0.995515</td>\n",
       "      <td>0.095833</td>\n",
       "    </tr>\n",
       "    <tr>\n",
       "      <th>1</th>\n",
       "      <td>0.726415</td>\n",
       "      <td>0.027027</td>\n",
       "      <td>0.000000</td>\n",
       "      <td>0.141667</td>\n",
       "      <td>0.00000</td>\n",
       "      <td>0.872149</td>\n",
       "      <td>1.0</td>\n",
       "      <td>1.0</td>\n",
       "      <td>0.381628</td>\n",
       "      <td>0.114662</td>\n",
       "      <td>0.000000</td>\n",
       "      <td>0.995515</td>\n",
       "      <td>0.019444</td>\n",
       "    </tr>\n",
       "    <tr>\n",
       "      <th>2</th>\n",
       "      <td>0.726415</td>\n",
       "      <td>0.054054</td>\n",
       "      <td>0.000000</td>\n",
       "      <td>NaN</td>\n",
       "      <td>0.09375</td>\n",
       "      <td>0.882228</td>\n",
       "      <td>0.0</td>\n",
       "      <td>1.0</td>\n",
       "      <td>0.381628</td>\n",
       "      <td>0.016917</td>\n",
       "      <td>0.000000</td>\n",
       "      <td>0.995515</td>\n",
       "      <td>0.000000</td>\n",
       "    </tr>\n",
       "    <tr>\n",
       "      <th>3</th>\n",
       "      <td>0.726415</td>\n",
       "      <td>0.081081</td>\n",
       "      <td>0.166667</td>\n",
       "      <td>0.429167</td>\n",
       "      <td>0.06250</td>\n",
       "      <td>0.877984</td>\n",
       "      <td>0.0</td>\n",
       "      <td>1.0</td>\n",
       "      <td>0.383874</td>\n",
       "      <td>0.063910</td>\n",
       "      <td>0.000000</td>\n",
       "      <td>0.995515</td>\n",
       "      <td>0.981944</td>\n",
       "    </tr>\n",
       "    <tr>\n",
       "      <th>4</th>\n",
       "      <td>0.726415</td>\n",
       "      <td>0.108108</td>\n",
       "      <td>0.166667</td>\n",
       "      <td>0.454167</td>\n",
       "      <td>0.06250</td>\n",
       "      <td>0.882228</td>\n",
       "      <td>0.0</td>\n",
       "      <td>1.0</td>\n",
       "      <td>0.378683</td>\n",
       "      <td>0.020677</td>\n",
       "      <td>0.000000</td>\n",
       "      <td>0.995515</td>\n",
       "      <td>0.880556</td>\n",
       "    </tr>\n",
       "  </tbody>\n",
       "</table>\n",
       "</div>"
      ],
      "text/plain": [
       "   FINAL_MARGIN  SHOT_NUMBER    PERIOD  SHOT_CLOCK  DRIBBLES  TOUCH_TIME  \\\n",
       "0      0.726415     0.000000  0.000000    0.450000   0.06250    0.877984   \n",
       "1      0.726415     0.027027  0.000000    0.141667   0.00000    0.872149   \n",
       "2      0.726415     0.054054  0.000000         NaN   0.09375    0.882228   \n",
       "3      0.726415     0.081081  0.166667    0.429167   0.06250    0.877984   \n",
       "4      0.726415     0.108108  0.166667    0.454167   0.06250    0.882228   \n",
       "\n",
       "   PTS_TYPE  SHOT_RESULT  CLOSEST_DEFENDER_PLAYER_ID  CLOSE_DEF_DIST  \\\n",
       "0       0.0          0.0                    0.189827        0.024436   \n",
       "1       1.0          1.0                    0.381628        0.114662   \n",
       "2       0.0          1.0                    0.381628        0.016917   \n",
       "3       0.0          1.0                    0.383874        0.063910   \n",
       "4       0.0          1.0                    0.378683        0.020677   \n",
       "\n",
       "        PTS  player_id  GAMECLOCK  \n",
       "0  0.666667   0.995515   0.095833  \n",
       "1  0.000000   0.995515   0.019444  \n",
       "2  0.000000   0.995515   0.000000  \n",
       "3  0.000000   0.995515   0.981944  \n",
       "4  0.000000   0.995515   0.880556  "
      ]
     },
     "execution_count": 35,
     "metadata": {},
     "output_type": "execute_result"
    }
   ],
   "source": [
    "data.head()"
   ]
  },
  {
   "cell_type": "markdown",
   "metadata": {},
   "source": [
    "We already know that there are missing values in 'SHOT_CLOCK'.\n",
    "Let's check how many missing values it has."
   ]
  },
  {
   "cell_type": "code",
   "execution_count": 37,
   "metadata": {},
   "outputs": [
    {
     "data": {
      "text/plain": [
       "FINAL_MARGIN                     0\n",
       "SHOT_NUMBER                      0\n",
       "PERIOD                           0\n",
       "SHOT_CLOCK                    5567\n",
       "DRIBBLES                         0\n",
       "TOUCH_TIME                       0\n",
       "PTS_TYPE                         0\n",
       "SHOT_RESULT                      0\n",
       "CLOSEST_DEFENDER_PLAYER_ID       0\n",
       "CLOSE_DEF_DIST                   0\n",
       "PTS                              0\n",
       "player_id                        0\n",
       "GAMECLOCK                        0\n",
       "dtype: int64"
      ]
     },
     "execution_count": 37,
     "metadata": {},
     "output_type": "execute_result"
    }
   ],
   "source": [
    "data.isnull().sum()"
   ]
  },
  {
   "cell_type": "markdown",
   "metadata": {},
   "source": [
    "There are 5567 missing values out of 128069 instances. So we can fill these datapoints with a mean value."
   ]
  },
  {
   "cell_type": "code",
   "execution_count": 38,
   "metadata": {},
   "outputs": [],
   "source": [
    "data.fillna(data.mean(),inplace=True)"
   ]
  },
  {
   "cell_type": "markdown",
   "metadata": {},
   "source": [
    "Now let's check how 'SHOT_CLOCK' effects the target."
   ]
  },
  {
   "cell_type": "code",
   "execution_count": 39,
   "metadata": {},
   "outputs": [
    {
     "name": "stderr",
     "output_type": "stream",
     "text": [
      "C:\\Users\\BATCOMP\\Anaconda3\\lib\\site-packages\\scipy\\stats\\stats.py:1713: FutureWarning: Using a non-tuple sequence for multidimensional indexing is deprecated; use `arr[tuple(seq)]` instead of `arr[seq]`. In the future this will be interpreted as an array index, `arr[np.array(seq)]`, which will result either in an error or a different result.\n",
      "  return np.add.reduce(sorted[indexer] * weights, axis=axis) / sumval\n"
     ]
    },
    {
     "data": {
      "image/png": "[encoded data removed]",
      "text/plain": [
       "<Figure size 432x288 with 1 Axes>"
      ]
     },
     "metadata": {},
     "output_type": "display_data"
    }
   ],
   "source": [
    "sns.set(style='darkgrid')\n",
    "ax=sns.lineplot(x='SHOT_CLOCK',y='PTS_TYPE',data=data)"
   ]
  },
  {
   "cell_type": "markdown",
   "metadata": {},
   "source": [
    "As shot clock decreases, chances of scoring a 2 pointer increases from 3 pointers for lower shot clock values."
   ]
  },
  {
   "cell_type": "markdown",
   "metadata": {},
   "source": [
    "Let's drop the above discussed features.\n",
    "\n",
    "Let's drop 'PTS_TYPE' also since that is our target."
   ]
  },
  {
   "cell_type": "code",
   "execution_count": 41,
   "metadata": {},
   "outputs": [],
   "source": [
    "data_t = data.drop(['PTS_TYPE', 'CLOSEST_DEFENDER_PLAYER_ID', 'player_id'],axis=1)"
   ]
  },
  {
   "cell_type": "code",
   "execution_count": 42,
   "metadata": {},
   "outputs": [
    {
     "data": {
      "text/html": [
       "<div>\n",
       "<style scoped>\n",
       "    .dataframe tbody tr th:only-of-type {\n",
       "        vertical-align: middle;\n",
       "    }\n",
       "\n",
       "    .dataframe tbody tr th {\n",
       "        vertical-align: top;\n",
       "    }\n",
       "\n",
       "    .dataframe thead th {\n",
       "        text-align: right;\n",
       "    }\n",
       "</style>\n",
       "<table border=\"1\" class=\"dataframe\">\n",
       "  <thead>\n",
       "    <tr style=\"text-align: right;\">\n",
       "      <th></th>\n",
       "      <th>FINAL_MARGIN</th>\n",
       "      <th>SHOT_NUMBER</th>\n",
       "      <th>PERIOD</th>\n",
       "      <th>SHOT_CLOCK</th>\n",
       "      <th>DRIBBLES</th>\n",
       "      <th>TOUCH_TIME</th>\n",
       "      <th>SHOT_RESULT</th>\n",
       "      <th>CLOSE_DEF_DIST</th>\n",
       "      <th>PTS</th>\n",
       "      <th>GAMECLOCK</th>\n",
       "    </tr>\n",
       "  </thead>\n",
       "  <tbody>\n",
       "    <tr>\n",
       "      <th>0</th>\n",
       "      <td>0.726415</td>\n",
       "      <td>0.000000</td>\n",
       "      <td>0.000000</td>\n",
       "      <td>0.450000</td>\n",
       "      <td>0.06250</td>\n",
       "      <td>0.877984</td>\n",
       "      <td>0.0</td>\n",
       "      <td>0.024436</td>\n",
       "      <td>0.666667</td>\n",
       "      <td>0.095833</td>\n",
       "    </tr>\n",
       "    <tr>\n",
       "      <th>1</th>\n",
       "      <td>0.726415</td>\n",
       "      <td>0.027027</td>\n",
       "      <td>0.000000</td>\n",
       "      <td>0.141667</td>\n",
       "      <td>0.00000</td>\n",
       "      <td>0.872149</td>\n",
       "      <td>1.0</td>\n",
       "      <td>0.114662</td>\n",
       "      <td>0.000000</td>\n",
       "      <td>0.019444</td>\n",
       "    </tr>\n",
       "    <tr>\n",
       "      <th>2</th>\n",
       "      <td>0.726415</td>\n",
       "      <td>0.054054</td>\n",
       "      <td>0.000000</td>\n",
       "      <td>0.518889</td>\n",
       "      <td>0.09375</td>\n",
       "      <td>0.882228</td>\n",
       "      <td>1.0</td>\n",
       "      <td>0.016917</td>\n",
       "      <td>0.000000</td>\n",
       "      <td>0.000000</td>\n",
       "    </tr>\n",
       "    <tr>\n",
       "      <th>3</th>\n",
       "      <td>0.726415</td>\n",
       "      <td>0.081081</td>\n",
       "      <td>0.166667</td>\n",
       "      <td>0.429167</td>\n",
       "      <td>0.06250</td>\n",
       "      <td>0.877984</td>\n",
       "      <td>1.0</td>\n",
       "      <td>0.063910</td>\n",
       "      <td>0.000000</td>\n",
       "      <td>0.981944</td>\n",
       "    </tr>\n",
       "    <tr>\n",
       "      <th>4</th>\n",
       "      <td>0.726415</td>\n",
       "      <td>0.108108</td>\n",
       "      <td>0.166667</td>\n",
       "      <td>0.454167</td>\n",
       "      <td>0.06250</td>\n",
       "      <td>0.882228</td>\n",
       "      <td>1.0</td>\n",
       "      <td>0.020677</td>\n",
       "      <td>0.000000</td>\n",
       "      <td>0.880556</td>\n",
       "    </tr>\n",
       "  </tbody>\n",
       "</table>\n",
       "</div>"
      ],
      "text/plain": [
       "   FINAL_MARGIN  SHOT_NUMBER    PERIOD  SHOT_CLOCK  DRIBBLES  TOUCH_TIME  \\\n",
       "0      0.726415     0.000000  0.000000    0.450000   0.06250    0.877984   \n",
       "1      0.726415     0.027027  0.000000    0.141667   0.00000    0.872149   \n",
       "2      0.726415     0.054054  0.000000    0.518889   0.09375    0.882228   \n",
       "3      0.726415     0.081081  0.166667    0.429167   0.06250    0.877984   \n",
       "4      0.726415     0.108108  0.166667    0.454167   0.06250    0.882228   \n",
       "\n",
       "   SHOT_RESULT  CLOSE_DEF_DIST       PTS  GAMECLOCK  \n",
       "0          0.0        0.024436  0.666667   0.095833  \n",
       "1          1.0        0.114662  0.000000   0.019444  \n",
       "2          1.0        0.016917  0.000000   0.000000  \n",
       "3          1.0        0.063910  0.000000   0.981944  \n",
       "4          1.0        0.020677  0.000000   0.880556  "
      ]
     },
     "execution_count": 42,
     "metadata": {},
     "output_type": "execute_result"
    }
   ],
   "source": [
    "data_t.head()"
   ]
  },
  {
   "cell_type": "markdown",
   "metadata": {},
   "source": [
    "Convert the final dataset into an array since mathematical functions on arrays is faster."
   ]
  },
  {
   "cell_type": "code",
   "execution_count": 43,
   "metadata": {},
   "outputs": [],
   "source": [
    "data_t = np.array(data_t)"
   ]
  },
  {
   "cell_type": "code",
   "execution_count": 44,
   "metadata": {},
   "outputs": [
    {
     "data": {
      "text/plain": [
       "array([[0.72641509, 0.        , 0.        , ..., 0.02443609, 0.66666667,\n",
       "        0.09583333],\n",
       "       [0.72641509, 0.02702703, 0.        , ..., 0.11466165, 0.        ,\n",
       "        0.01944444],\n",
       "       [0.72641509, 0.05405405, 0.        , ..., 0.01691729, 0.        ,\n",
       "        0.        ],\n",
       "       ...,\n",
       "       [0.3490566 , 0.16216216, 0.5       , ..., 0.07894737, 0.66666667,\n",
       "        0.93055556],\n",
       "       [0.3490566 , 0.18918919, 0.5       , ..., 0.05639098, 0.        ,\n",
       "        0.21805556],\n",
       "       [0.3490566 , 0.21621622, 0.5       , ..., 0.04323308, 0.66666667,\n",
       "        0.01666667]])"
      ]
     },
     "execution_count": 44,
     "metadata": {},
     "output_type": "execute_result"
    }
   ],
   "source": [
    "data_t"
   ]
  },
  {
   "cell_type": "code",
   "execution_count": 45,
   "metadata": {},
   "outputs": [
    {
     "data": {
      "text/plain": [
       "(128069, 10)"
      ]
     },
     "execution_count": 45,
     "metadata": {},
     "output_type": "execute_result"
    }
   ],
   "source": [
    "data_t.shape"
   ]
  },
  {
   "cell_type": "markdown",
   "metadata": {},
   "source": [
    "Create a target dataset now for prediction."
   ]
  },
  {
   "cell_type": "code",
   "execution_count": 46,
   "metadata": {},
   "outputs": [
    {
     "data": {
      "text/plain": [
       "0    0.0\n",
       "1    1.0\n",
       "2    0.0\n",
       "3    0.0\n",
       "4    0.0\n",
       "Name: PTS_TYPE, dtype: float64"
      ]
     },
     "execution_count": 46,
     "metadata": {},
     "output_type": "execute_result"
    }
   ],
   "source": [
    "target = data['PTS_TYPE']\n",
    "target.head()"
   ]
  },
  {
   "cell_type": "code",
   "execution_count": 47,
   "metadata": {},
   "outputs": [
    {
     "data": {
      "text/plain": [
       "0.0    94173\n",
       "1.0    33896\n",
       "Name: PTS_TYPE, dtype: int64"
      ]
     },
     "execution_count": 47,
     "metadata": {},
     "output_type": "execute_result"
    }
   ],
   "source": [
    "target.value_counts()"
   ]
  },
  {
   "cell_type": "markdown",
   "metadata": {},
   "source": [
    "0 = 2ptr\n",
    "\n",
    "1 = 3ptr"
   ]
  },
  {
   "cell_type": "markdown",
   "metadata": {},
   "source": [
    "Convert the target data into an array."
   ]
  },
  {
   "cell_type": "code",
   "execution_count": 48,
   "metadata": {},
   "outputs": [
    {
     "data": {
      "text/plain": [
       "array([0., 1., 0., ..., 0., 0., 0.])"
      ]
     },
     "execution_count": 48,
     "metadata": {},
     "output_type": "execute_result"
    }
   ],
   "source": [
    "target=np.array(target)\n",
    "target"
   ]
  },
  {
   "cell_type": "code",
   "execution_count": 49,
   "metadata": {},
   "outputs": [],
   "source": [
    "target=target.reshape(-1,1)"
   ]
  },
  {
   "cell_type": "code",
   "execution_count": 50,
   "metadata": {},
   "outputs": [
    {
     "data": {
      "text/plain": [
       "(128069, 1)"
      ]
     },
     "execution_count": 50,
     "metadata": {},
     "output_type": "execute_result"
    }
   ],
   "source": [
    "target.shape"
   ]
  },
  {
   "cell_type": "code",
   "execution_count": 51,
   "metadata": {},
   "outputs": [
    {
     "data": {
      "text/plain": [
       "array([[0.],\n",
       "       [1.],\n",
       "       [0.],\n",
       "       ...,\n",
       "       [0.],\n",
       "       [0.],\n",
       "       [0.]])"
      ]
     },
     "execution_count": 51,
     "metadata": {},
     "output_type": "execute_result"
    }
   ],
   "source": [
    "target"
   ]
  },
  {
   "cell_type": "markdown",
   "metadata": {},
   "source": [
    "Create training and test datasets."
   ]
  },
  {
   "cell_type": "code",
   "execution_count": 52,
   "metadata": {},
   "outputs": [],
   "source": [
    "xtrain, xtest, ytrain, ytest = train_test_split(data_t, target, test_size = 0.2)"
   ]
  },
  {
   "cell_type": "code",
   "execution_count": 53,
   "metadata": {},
   "outputs": [
    {
     "name": "stdout",
     "output_type": "stream",
     "text": [
      "WARNING:tensorflow:From C:\\Users\\BATCOMP\\Anaconda3\\lib\\site-packages\\tensorflow\\python\\framework\\op_def_library.py:263: colocate_with (from tensorflow.python.framework.ops) is deprecated and will be removed in a future version.\n",
      "Instructions for updating:\n",
      "Colocations handled automatically by placer.\n"
     ]
    }
   ],
   "source": [
    "model = Sequential([\n",
    "    Dense(28, activation = 'relu', input_shape =(xtrain[1].shape)),\n",
    "    Dense(16, activation = 'sigmoid'),\n",
    "    Dense(2, activation = 'softmax')\n",
    "])"
   ]
  },
  {
   "cell_type": "code",
   "execution_count": 54,
   "metadata": {},
   "outputs": [
    {
     "name": "stdout",
     "output_type": "stream",
     "text": [
      "_________________________________________________________________\n",
      "Layer (type)                 Output Shape              Param #   \n",
      "=================================================================\n",
      "dense_1 (Dense)              (None, 28)                308       \n",
      "_________________________________________________________________\n",
      "dense_2 (Dense)              (None, 16)                464       \n",
      "_________________________________________________________________\n",
      "dense_3 (Dense)              (None, 2)                 34        \n",
      "=================================================================\n",
      "Total params: 806\n",
      "Trainable params: 806\n",
      "Non-trainable params: 0\n",
      "_________________________________________________________________\n"
     ]
    }
   ],
   "source": [
    "model.summary()"
   ]
  },
  {
   "cell_type": "markdown",
   "metadata": {},
   "source": [
    "Introduce callbacks like early stop to stop the calculation of validation accuracy if overfitting occurs, and learning rate reduction to reduce the learning rate automatically of accuracy is not improving."
   ]
  },
  {
   "cell_type": "code",
   "execution_count": 55,
   "metadata": {},
   "outputs": [],
   "source": [
    "early_stop = keras.callbacks.EarlyStopping(monitor = 'val_acc', verbose=1, patience=10, mode='max')\n",
    "learning = keras.callbacks.ReduceLROnPlateau(monitor = 'acc', verbose=1, patience=10, factor=0.1, mode='max', min_lr=0.001, cooldown = 5) "
   ]
  },
  {
   "cell_type": "code",
   "execution_count": 56,
   "metadata": {},
   "outputs": [],
   "source": [
    "# adam = keras.optimizers.adam(lr = 0.001)\n",
    "model.compile(loss = 'sparse_categorical_crossentropy',\n",
    "             optimizer = 'adam',\n",
    "             metrics = ['accuracy'])"
   ]
  },
  {
   "cell_type": "code",
   "execution_count": 60,
   "metadata": {
    "scrolled": false
   },
   "outputs": [
    {
     "name": "stdout",
     "output_type": "stream",
     "text": [
      "Train on 81964 samples, validate on 20491 samples\n",
      "Epoch 1/10\n",
      "81964/81964 [==============================] - 0s 4us/step - loss: 0.2491 - acc: 0.8780 - val_loss: 0.2564 - val_acc: 0.8727\n",
      "Epoch 2/10\n",
      "81964/81964 [==============================] - 0s 4us/step - loss: 0.2489 - acc: 0.8778 - val_loss: 0.2551 - val_acc: 0.8743\n",
      "Epoch 3/10\n",
      "81964/81964 [==============================] - 0s 4us/step - loss: 0.2482 - acc: 0.8791 - val_loss: 0.2557 - val_acc: 0.8763\n",
      "Epoch 4/10\n",
      "81964/81964 [==============================] - 0s 3us/step - loss: 0.2477 - acc: 0.8793 - val_loss: 0.2549 - val_acc: 0.8743\n",
      "Epoch 5/10\n",
      "81964/81964 [==============================] - 0s 4us/step - loss: 0.2472 - acc: 0.8795 - val_loss: 0.2541 - val_acc: 0.8740\n",
      "Epoch 6/10\n",
      "81964/81964 [==============================] - 0s 4us/step - loss: 0.2470 - acc: 0.8787 - val_loss: 0.2526 - val_acc: 0.8775\n",
      "Epoch 7/10\n",
      "81964/81964 [==============================] - 0s 3us/step - loss: 0.2461 - acc: 0.8801 - val_loss: 0.2539 - val_acc: 0.8744\n",
      "Epoch 8/10\n",
      "81964/81964 [==============================] - 0s 3us/step - loss: 0.2456 - acc: 0.8803 - val_loss: 0.2519 - val_acc: 0.8767\n",
      "Epoch 9/10\n",
      "81964/81964 [==============================] - 0s 4us/step - loss: 0.2452 - acc: 0.8805 - val_loss: 0.2560 - val_acc: 0.8744\n",
      "Epoch 10/10\n",
      "81964/81964 [==============================] - 0s 4us/step - loss: 0.2452 - acc: 0.8806 - val_loss: 0.2535 - val_acc: 0.8745\n"
     ]
    }
   ],
   "source": [
    "history = model.fit(xtrain, ytrain, epochs = 10, batch_size=512 ,verbose = 1,validation_split=0.2, callbacks = [early_stop, learning])"
   ]
  },
  {
   "cell_type": "code",
   "execution_count": 61,
   "metadata": {
    "scrolled": false
   },
   "outputs": [
    {
     "data": {
      "text/plain": [
       "{'val_loss': [0.2563687406389775,\n",
       "  0.255072425063175,\n",
       "  0.255722437976924,\n",
       "  0.2548830037302354,\n",
       "  0.25408068794083916,\n",
       "  0.2525632926784912,\n",
       "  0.25386364832116887,\n",
       "  0.25185204900557207,\n",
       "  0.2559677329615975,\n",
       "  0.253519759931808],\n",
       " 'val_acc': [0.8727246108018347,\n",
       "  0.8742862720364074,\n",
       "  0.876335952383877,\n",
       "  0.8742862720189545,\n",
       "  0.8739934605581974,\n",
       "  0.8774583963836817,\n",
       "  0.8743838758450244,\n",
       "  0.8766775657751219,\n",
       "  0.8744326777580594,\n",
       "  0.8744814796885473],\n",
       " 'loss': [0.24907743468023277,\n",
       "  0.24890458354616718,\n",
       "  0.24819793201392848,\n",
       "  0.2476802654900713,\n",
       "  0.2472340846854651,\n",
       "  0.24695024880981975,\n",
       "  0.24609430120043196,\n",
       "  0.24561991278129583,\n",
       "  0.24517238104473146,\n",
       "  0.2451863367104855],\n",
       " 'acc': [0.877970816458914,\n",
       "  0.8778366112009764,\n",
       "  0.87906885950511,\n",
       "  0.8793372700297113,\n",
       "  0.879483675771725,\n",
       "  0.8786540432501302,\n",
       "  0.8800692987223273,\n",
       "  0.8802645063744673,\n",
       "  0.8805207164062657,\n",
       "  0.880606119754077],\n",
       " 'lr': [0.001, 0.001, 0.001, 0.001, 0.001, 0.001, 0.001, 0.001, 0.001, 0.001]}"
      ]
     },
     "execution_count": 61,
     "metadata": {},
     "output_type": "execute_result"
    }
   ],
   "source": [
    "history.history"
   ]
  },
  {
   "cell_type": "code",
   "execution_count": 62,
   "metadata": {},
   "outputs": [
    {
     "data": {
      "text/plain": [
       "[<matplotlib.lines.Line2D at 0x25f82530080>,\n",
       " <matplotlib.lines.Line2D at 0x25f82530208>]"
      ]
     },
     "execution_count": 62,
     "metadata": {},
     "output_type": "execute_result"
    },
    {
     "data": {
      "image/png": "[encoded data removed]",
      "text/plain": [
       "<Figure size 432x288 with 1 Axes>"
      ]
     },
     "metadata": {},
     "output_type": "display_data"
    }
   ],
   "source": [
    "plt.plot(history.epoch, history.history['loss'],\n",
    "        history.epoch, history.history['acc'])"
   ]
  },
  {
   "cell_type": "markdown",
   "metadata": {},
   "source": [
    "Evaluate the accuracy on the test dataset."
   ]
  },
  {
   "cell_type": "code",
   "execution_count": 63,
   "metadata": {},
   "outputs": [
    {
     "name": "stdout",
     "output_type": "stream",
     "text": [
      "25614/25614 [==============================] - 0s 11us/step\n"
     ]
    },
    {
     "data": {
      "text/plain": [
       "[0.25057673407278586, 0.8735847583399394]"
      ]
     },
     "execution_count": 63,
     "metadata": {},
     "output_type": "execute_result"
    }
   ],
   "source": [
    "model.evaluate(xtest, ytest)"
   ]
  },
  {
   "cell_type": "markdown",
   "metadata": {},
   "source": [
    "Create a dataset for all the test data predicted values."
   ]
  },
  {
   "cell_type": "code",
   "execution_count": 64,
   "metadata": {},
   "outputs": [],
   "source": [
    "pred = model.predict(xtest, batch_size=None)"
   ]
  },
  {
   "cell_type": "code",
   "execution_count": 65,
   "metadata": {},
   "outputs": [
    {
     "data": {
      "text/plain": [
       "array([[9.8503184e-01, 1.4968177e-02],\n",
       "       [9.9996197e-01, 3.7994145e-05],\n",
       "       [9.9999404e-01, 5.9078216e-06],\n",
       "       ...,\n",
       "       [7.9145783e-01, 2.0854209e-01],\n",
       "       [9.9989736e-01, 1.0262218e-04],\n",
       "       [7.0046061e-01, 2.9953933e-01]], dtype=float32)"
      ]
     },
     "execution_count": 65,
     "metadata": {},
     "output_type": "execute_result"
    }
   ],
   "source": [
    "pred"
   ]
  },
  {
   "cell_type": "markdown",
   "metadata": {},
   "source": [
    "Create a list with all the predicted values for the test dataset."
   ]
  },
  {
   "cell_type": "code",
   "execution_count": 66,
   "metadata": {},
   "outputs": [],
   "source": [
    "counts = []\n",
    "for i in range(len(pred)):\n",
    "    counts.append(np.where(pred[i]==pred[i].max()))"
   ]
  },
  {
   "cell_type": "code",
   "execution_count": 67,
   "metadata": {},
   "outputs": [],
   "source": [
    "count=[]\n",
    "for i in range(len(counts)):\n",
    "    count.append(counts[i][0][0])"
   ]
  },
  {
   "cell_type": "markdown",
   "metadata": {},
   "source": [
    "Evaluate the accuracy on test dataset."
   ]
  },
  {
   "cell_type": "code",
   "execution_count": 68,
   "metadata": {},
   "outputs": [],
   "source": [
    "acc_count = 0\n",
    "for i in range(len(count)):\n",
    "    if ytest[i][0] == count[i]:\n",
    "        acc_count += 1"
   ]
  },
  {
   "cell_type": "code",
   "execution_count": 69,
   "metadata": {},
   "outputs": [
    {
     "data": {
      "text/plain": [
       "0.8735847583352854"
      ]
     },
     "execution_count": 69,
     "metadata": {},
     "output_type": "execute_result"
    }
   ],
   "source": [
    "acc_count/len(ytest)"
   ]
  },
  {
   "cell_type": "markdown",
   "metadata": {},
   "source": [
    "Check if some predicted values are equal to the actual output for the test dataset."
   ]
  },
  {
   "cell_type": "code",
   "execution_count": 70,
   "metadata": {},
   "outputs": [
    {
     "data": {
      "text/plain": [
       "array([0.])"
      ]
     },
     "execution_count": 70,
     "metadata": {},
     "output_type": "execute_result"
    }
   ],
   "source": [
    "ytest[5]"
   ]
  },
  {
   "cell_type": "code",
   "execution_count": 71,
   "metadata": {},
   "outputs": [
    {
     "data": {
      "text/plain": [
       "(array([0], dtype=int64),)"
      ]
     },
     "execution_count": 71,
     "metadata": {},
     "output_type": "execute_result"
    }
   ],
   "source": [
    "np.where(pred[5]==pred[5].max())"
   ]
  },
  {
   "cell_type": "code",
   "execution_count": 72,
   "metadata": {},
   "outputs": [
    {
     "data": {
      "text/plain": [
       "array([0.])"
      ]
     },
     "execution_count": 72,
     "metadata": {},
     "output_type": "execute_result"
    }
   ],
   "source": [
    "ytest[2]"
   ]
  },
  {
   "cell_type": "code",
   "execution_count": 73,
   "metadata": {},
   "outputs": [
    {
     "data": {
      "text/plain": [
       "(array([0], dtype=int64),)"
      ]
     },
     "execution_count": 73,
     "metadata": {},
     "output_type": "execute_result"
    }
   ],
   "source": [
    "np.where(pred[2]==pred[2].max())"
   ]
  }
 ],
 "metadata": {
  "kernelspec": {
   "display_name": "Python 3",
   "language": "python",
   "name": "python3"
  },
  "language_info": {
   "codemirror_mode": {
    "name": "ipython",
    "version": 3
   },
   "file_extension": ".py",
   "mimetype": "text/x-python",
   "name": "python",
   "nbconvert_exporter": "python",
   "pygments_lexer": "ipython3",
   "version": "3.6.5"
  }
 },
 "nbformat": 4,
 "nbformat_minor": 2
}
